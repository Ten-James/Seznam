{
 "cells": [
  {
   "cell_type": "markdown",
   "id": "c891129c-9fd7-4541-814e-c815596e0933",
   "metadata": {},
   "source": [
    "# Komentáře\n"
   ]
  },
  {
   "cell_type": "code",
   "execution_count": 1,
   "id": "603cb4ce-6b9d-48d7-8291-f8b9826cbcde",
   "metadata": {},
   "outputs": [],
   "source": [
    "import pandas as pd\n",
    "import matplotlib.pyplot as plt\n",
    "import datetime\n",
    "import math\n",
    "import re"
   ]
  },
  {
   "cell_type": "code",
   "execution_count": 2,
   "id": "2616bda8-bd0a-4f57-b931-d24b120723bd",
   "metadata": {},
   "outputs": [
    {
     "name": "stderr",
     "output_type": "stream",
     "text": [
      "/tmp/ipykernel_168/1648388463.py:1: DtypeWarning: Columns (0,1,2,3) have mixed types. Specify dtype option on import or set low_memory=False.\n",
      "  komm = pd.read_csv(\"komentare.csv\", sep='\\t')\n"
     ]
    }
   ],
   "source": [
    "komm = pd.read_csv(\"komentare.csv\", sep='\\t')\n",
    "#komm"
   ]
  },
  {
   "cell_type": "markdown",
   "id": "b7d9c83a-d1fa-4a26-8f0b-f1018f219e99",
   "metadata": {
    "jp-MarkdownHeadingCollapsed": true,
    "tags": []
   },
   "source": [
    "## Jaké je rozložení délky komentáře - na počet znaků (nastudovat, co je to histogram) "
   ]
  },
  {
   "cell_type": "code",
   "execution_count": 21,
   "id": "e4daa0af-6087-4102-9904-6859b4871e74",
   "metadata": {},
   "outputs": [
    {
     "data": {
      "text/plain": [
       "0           97\n",
       "1          308\n",
       "2          307\n",
       "3          346\n",
       "4           35\n",
       "          ... \n",
       "1422715     10\n",
       "1422716     69\n",
       "1422717     47\n",
       "1422718    184\n",
       "1422719     59\n",
       "Name: content, Length: 1422720, dtype: int64"
      ]
     },
     "execution_count": 21,
     "metadata": {},
     "output_type": "execute_result"
    }
   ],
   "source": [
    "cont = komm[\"content\"]\n",
    "cont.apply(str).apply(len)"
   ]
  },
  {
   "cell_type": "markdown",
   "id": "16b3a2d2-d099-49d9-96c4-5041317608c0",
   "metadata": {
    "tags": []
   },
   "source": [
    "## Histogram dne. V kterém časovém období dne píšou lidé nejvíc komentáře?"
   ]
  },
  {
   "cell_type": "code",
   "execution_count": 39,
   "id": "ebf461f4-603b-4f1f-b959-c28268c8a81d",
   "metadata": {},
   "outputs": [
    {
     "name": "stdout",
     "output_type": "stream",
     "text": [
      "CPU times: user 13.4 s, sys: 95.7 ms, total: 13.5 s\n",
      "Wall time: 13.5 s\n"
     ]
    }
   ],
   "source": [
    "%%time\n",
    "histo = komm['created_date'].dropna()\n",
    "histo = histo.apply(lambda x: datetime.datetime.strptime(str(x), \"%Y-%m-%d %H:%M:%S\").hour)\n"
   ]
  },
  {
   "cell_type": "code",
   "execution_count": 41,
   "id": "132e1567-dffc-4160-a734-7b0c82602a23",
   "metadata": {},
   "outputs": [
    {
     "name": "stdout",
     "output_type": "stream",
     "text": [
      "CPU times: user 947 ms, sys: 85.3 ms, total: 1.03 s\n",
      "Wall time: 1.03 s\n"
     ]
    }
   ],
   "source": [
    "%%time\n",
    "histo = komm['created_date'].dropna()\n",
    "## bez pretypovani je to znatelne rychlejsi\n",
    "histo = histo.apply(lambda x: str(x)[str(x).index(' '):str(x).index(' ')+2:1])"
   ]
  },
  {
   "cell_type": "code",
   "execution_count": 85,
   "id": "eb973bf1-7152-48b7-9a62-783423247567",
   "metadata": {},
   "outputs": [
    {
     "data": {
      "text/plain": [
       "<AxesSubplot:ylabel='Frequency'>"
      ]
     },
     "execution_count": 85,
     "metadata": {},
     "output_type": "execute_result"
    },
    {
     "data": {
      "image/png": "[encoded data removed]",
      "text/plain": [
       "<Figure size 432x288 with 1 Axes>"
      ]
     },
     "metadata": {
      "needs_background": "light"
     },
     "output_type": "display_data"
    }
   ],
   "source": [
    "# 24 * 2 - 1 = 47\n",
    "# pocet mezer je o 1 min nez pocet sloupcu\n",
    "histo.plot.hist(bins=47, logy=True)"
   ]
  },
  {
   "cell_type": "markdown",
   "id": "845e3c53-92b5-4b6e-bad8-494323bb1a74",
   "metadata": {
    "tags": []
   },
   "source": [
    "## Jaký je poměr komentářů na první (level=0) a druhé úrovni (level=1)"
   ]
  },
  {
   "cell_type": "markdown",
   "id": "823a48b4-91fa-4709-a0dd-8f77a156ad28",
   "metadata": {
    "jp-MarkdownHeadingCollapsed": true,
    "tags": []
   },
   "source": [
    "### Řešení č.1 \n",
    "- je znatelně rychlejší než regex ale o to je hůř čitelnější"
   ]
  },
  {
   "cell_type": "code",
   "execution_count": 3,
   "id": "a6e86dc4-9431-475b-84b1-eae7f0c225e7",
   "metadata": {},
   "outputs": [
    {
     "name": "stdout",
     "output_type": "stream",
     "text": [
      "POMER uroven1:uroven2 424129:707428\n",
      "0.599536631289686\n",
      "CPU times: user 1.12 s, sys: 0 ns, total: 1.12 s\n",
      "Wall time: 1.13 s\n"
     ]
    }
   ],
   "source": [
    "%%time\n",
    "\n",
    "def tint(x):\n",
    "    try:\n",
    "        return int(x)\n",
    "    except ValueError:\n",
    "        return -1\n",
    "\n",
    "\n",
    "\n",
    "l = komm['level']\n",
    "c1 = 0\n",
    "c2 = 0\n",
    "#hodne trapne reseni\n",
    "for index, value in l.items():\n",
    "    if tint(value) == 0:\n",
    "        c1+=1\n",
    "    elif tint(value) == 1:\n",
    "        c2+=1\n",
    "\n",
    "d = math.gcd(c1, c2)  \n",
    "#print(d)\n",
    "c1 = int(c1 / d);\n",
    "c2 = int(c2 / d);\n",
    "print(f\"POMER uroven1:uroven2 {c1}:{c2}\")\n",
    "print( c1/c2)"
   ]
  },
  {
   "cell_type": "markdown",
   "id": "520b65e5-671a-4c4e-80ba-c84a1f43009a",
   "metadata": {
    "jp-MarkdownHeadingCollapsed": true,
    "tags": []
   },
   "source": [
    "### Řešení č.2\n",
    "- Využití Regexu"
   ]
  },
  {
   "cell_type": "code",
   "execution_count": 43,
   "id": "9ab3167a-bb5d-47d8-9f01-f33b49b565e7",
   "metadata": {},
   "outputs": [
    {
     "name": "stdout",
     "output_type": "stream",
     "text": [
      "POMER uroven1:uroven2 424129:707428\n",
      "CPU times: user 4.07 s, sys: 262 ms, total: 4.33 s\n",
      "Wall time: 4.32 s\n"
     ]
    }
   ],
   "source": [
    "%%time\n",
    "ll = komm.set_index('level')[\"user_id\"]\n",
    "\n",
    "l1 = ll.filter(regex=r\"^0\")\n",
    "l2 = ll.filter(regex=r\"^1\")\n",
    "\n",
    "c1 = l1.count()\n",
    "c2 = l2.count()\n",
    "\n",
    "d = math.gcd(c1,c2)\n",
    "\n",
    "print(f\"POMER uroven1:uroven2 {int(c1/d)}:{int(c2/d)}\")"
   ]
  },
  {
   "cell_type": "markdown",
   "id": "35a498aa-8352-4a02-979f-e2707e85b311",
   "metadata": {
    "jp-MarkdownHeadingCollapsed": true,
    "tags": []
   },
   "source": [
    "## Kolik unikátních uživatelů napsalo minulý měsíc komentář?"
   ]
  },
  {
   "cell_type": "code",
   "execution_count": 47,
   "id": "62af41dd-3a7f-4721-b9e9-82d6ad207adf",
   "metadata": {},
   "outputs": [
    {
     "name": "stdout",
     "output_type": "stream",
     "text": [
      "CPU times: user 1.46 s, sys: 164 ms, total: 1.62 s\n",
      "Wall time: 1.64 s\n"
     ]
    },
    {
     "data": {
      "text/plain": [
       "70744"
      ]
     },
     "execution_count": 47,
     "metadata": {},
     "output_type": "execute_result"
    }
   ],
   "source": [
    "%%time\n",
    "today = datetime.date.today()\n",
    "first = today.replace(day=1)\n",
    "lastMonth = first - datetime.timedelta(days=1)\n",
    "yearMonth = lastMonth.strftime(\"%Y-%m\")\n",
    "\n",
    "last_m = komm.set_index(\"user_id\")[\"created_date\"].dropna()\n",
    "last_m = last_m.apply(lambda x: str(x)[0:7:1])\n",
    "reverse = pd.Series(data=last_m.index,index=last_m.values)\n",
    "reverse.filter(like=yearMonth).drop_duplicates().count()\n"
   ]
  },
  {
   "cell_type": "markdown",
   "id": "d74fefc5-490c-4286-96b8-10bd7b8068e6",
   "metadata": {
    "jp-MarkdownHeadingCollapsed": true,
    "tags": []
   },
   "source": [
    "## Vypsat prvních 100 nejaktivnějších přispěvatelů."
   ]
  },
  {
   "cell_type": "code",
   "execution_count": 7,
   "id": "5769fccd-c685-4fa5-80d4-bafada897c28",
   "metadata": {},
   "outputs": [
    {
     "data": {
      "text/plain": [
       "['1076207',\n",
       " '110669851',\n",
       " '777223',\n",
       " '29255935',\n",
       " '15911976',\n",
       " '8305572',\n",
       " '15200198',\n",
       " '9766466',\n",
       " '21226504',\n",
       " '3091490',\n",
       " '7314619',\n",
       " '33778487',\n",
       " '25862381',\n",
       " '27491091',\n",
       " '94194026',\n",
       " '111227721',\n",
       " '9274686',\n",
       " '96041897',\n",
       " '31535430',\n",
       " '109873414',\n",
       " '10925447',\n",
       " '6691805',\n",
       " '12249702',\n",
       " '2971285',\n",
       " '123606051',\n",
       " '102400715',\n",
       " '2323135',\n",
       " '102790395',\n",
       " '6635944',\n",
       " '105055592',\n",
       " '69408498',\n",
       " '19050120',\n",
       " '4190557',\n",
       " '106685308',\n",
       " '96007007',\n",
       " '35815564',\n",
       " '32434969',\n",
       " '63337511',\n",
       " '498810',\n",
       " '41182835',\n",
       " '155883',\n",
       " '8845554',\n",
       " '6453565',\n",
       " '10945340',\n",
       " '9238387',\n",
       " '20395836',\n",
       " '1243315',\n",
       " '123512700',\n",
       " '17033079',\n",
       " '13725160',\n",
       " '42991533',\n",
       " '8712398',\n",
       " '101507519',\n",
       " '16420933',\n",
       " '13020447',\n",
       " '31222131',\n",
       " '1035946',\n",
       " '92112342',\n",
       " '109399360',\n",
       " '91228238',\n",
       " '5343455',\n",
       " '111139861',\n",
       " '59902640',\n",
       " '126744710',\n",
       " '123920360',\n",
       " '2801510',\n",
       " '11790696',\n",
       " '16755127',\n",
       " '108948380',\n",
       " '104966156',\n",
       " '150578',\n",
       " '125731119',\n",
       " '65104233',\n",
       " '13283053',\n",
       " '25906314',\n",
       " '9664516',\n",
       " '109979789',\n",
       " '8124766',\n",
       " '86733060',\n",
       " '17192810',\n",
       " '128443897',\n",
       " '31883568',\n",
       " '530095',\n",
       " '90269786',\n",
       " '1123753',\n",
       " '29579123',\n",
       " '9302294',\n",
       " '107948232',\n",
       " '102659991',\n",
       " '6475629',\n",
       " '504697',\n",
       " '107860680',\n",
       " '13717',\n",
       " '14254416',\n",
       " '117459402',\n",
       " '15433009',\n",
       " '7515948',\n",
       " '9982411',\n",
       " '120261',\n",
       " '18273183']"
      ]
     },
     "execution_count": 7,
     "metadata": {},
     "output_type": "execute_result"
    }
   ],
   "source": [
    "poleUid = pd.Series(komm.dropna()[\"user_id\"].values)\n",
    "poleUid.value_counts().head(100).index.tolist()"
   ]
  },
  {
   "cell_type": "markdown",
   "id": "9a6c929e-f641-4b68-a457-acc285569aa5",
   "metadata": {},
   "source": [
    "## Výzva z pokročilejších algoritmů: Pomocí algoritmu tf-idf extrahovat nejrelevantnější/nejvýznamnější slova z každého komentáře."
   ]
  },
  {
   "cell_type": "markdown",
   "id": "84c55a01-1f44-45e4-8304-96c8147a9404",
   "metadata": {
    "tags": []
   },
   "source": [
    "### Řešení č.1\n"
   ]
  },
  {
   "cell_type": "markdown",
   "id": "86d59ec5-8231-4a08-a045-b2c913daa047",
   "metadata": {
    "tags": []
   },
   "source": [
    "#### Časy:\n",
    "- Prvních 20 bez předpřipravených dat  7min 36s\n",
    "- Prvních 20 s daty logarytmů 1.4s\n",
    "- Prvních 100 s daty 20. 19min 23s\n",
    "- 100 se všemi daty 1.62s\n",
    "- 100 s polovinou dat 13min 46s\n"
   ]
  },
  {
   "cell_type": "code",
   "execution_count": 80,
   "id": "8495179f-5d33-46de-9154-d21f0089bfb7",
   "metadata": {},
   "outputs": [],
   "source": [
    "logy = pd.Series(dtype = int)\n",
    "commenty = komm.dropna().set_index(\"content\")[\"user_id\"]\n",
    "count = commenty.count()\n",
    "i = 1"
   ]
  },
  {
   "cell_type": "code",
   "execution_count": 74,
   "id": "2c69069b-d2c2-4792-9660-d57cee8d1081",
   "metadata": {},
   "outputs": [],
   "source": [
    "i = 1"
   ]
  },
  {
   "cell_type": "markdown",
   "id": "a2b51f30-ebe0-4562-8f35-3cf05b0e1453",
   "metadata": {
    "jp-MarkdownHeadingCollapsed": true,
    "tags": []
   },
   "source": [
    "#### Získat list všech slov"
   ]
  },
  {
   "cell_type": "code",
   "execution_count": 79,
   "id": "eb028001-88bb-45b3-80b3-011b25737b5a",
   "metadata": {},
   "outputs": [],
   "source": [
    "def UnikatniSlova(veta):\n",
    "    uslova = []\n",
    "    for slovo in veta:\n",
    "        if slovo not in uslova:\n",
    "            uslova.append(slovo)\n",
    "    return uslova"
   ]
  },
  {
   "cell_type": "markdown",
   "id": "b33a54ef-7aec-4153-9d14-5a06a83a6e25",
   "metadata": {
    "jp-MarkdownHeadingCollapsed": true,
    "tags": []
   },
   "source": [
    "#### TF-IDF"
   ]
  },
  {
   "cell_type": "code",
   "execution_count": 78,
   "id": "ae845807-9c47-4210-92dd-e4bcaf1ae315",
   "metadata": {},
   "outputs": [],
   "source": [
    "def TfIdf(comment, word, logcount):\n",
    "    n = comment.count(word) / len(comment)\n",
    "    return n * logcount\n",
    "\n",
    "def TfIdfbest5(comment):\n",
    "    global i\n",
    "    print(i, end=\" \")\n",
    "    i += 1\n",
    "    unique = pd.Series(index = UnikatniSlova(comment), dtype=int)\n",
    "    for slovo in unique.index:\n",
    "        if slovo == '':\n",
    "            continue\n",
    "        if logy.get(slovo, default = 0) == 0:\n",
    "            logy.at[slovo] = math.log10(count / commenty.filter(like=slovo).count())\n",
    "        unique.at[slovo] = TfIdf(comment, slovo, logy.at[slovo])\n",
    "    \n",
    "    reverse = pd.Series(index = unique.values, data = unique.index).sort_index(ascending=False)\n",
    "    return \" \".join(reverse.head(5).values)\n",
    "    \n",
    "        \n",
    "        \n",
    "    \n",
    "    "
   ]
  },
  {
   "cell_type": "markdown",
   "id": "3e6ea994-42e5-4b25-aa96-0b549f147c8e",
   "metadata": {
    "jp-MarkdownHeadingCollapsed": true,
    "tags": []
   },
   "source": [
    "#### Aplikace na komentáře když je pole _logy_ prazdne"
   ]
  },
  {
   "cell_type": "code",
   "execution_count": 81,
   "id": "6039b388-936f-4c0c-8d11-dfc8665c2bc1",
   "metadata": {},
   "outputs": [
    {
     "name": "stdout",
     "output_type": "stream",
     "text": [
      "1 2 3 4 5 6 7 8 9 10 11 12 13 14 15 16 17 18 19 20 \n",
      "\n",
      "vystudovala    4.142642\n",
      "matematiku     3.721839\n",
      "a              0.029928\n",
      "propaguje      3.791765\n",
      "vědu           3.710844\n",
      "                 ...   \n",
      "nemá           1.523407\n",
      "čeho           2.231268\n",
      "žít            2.016502\n",
      "nebohý         4.295870\n",
      "národ          1.845473\n",
      "Length: 538, dtype: float64\n",
      "\n",
      "\n",
      "\n",
      "0             danica mckellar zivotopis vystudovala php\n",
      "1      feministkám nanynka rovnoprávnost nepraskne 50km\n",
      "2                  hadi název křovinář masožravci kobry\n",
      "3     nkritizujete zastupitelskému zelenského králov...\n",
      "4                           koule ceni naopak maji dnes\n",
      "5                nrusskije vlajky symbol zločinné hnutí\n",
      "6         ukrajiny zhořklo nesjednotil zaslané snadného\n",
      "7                         nepouštět šmejdy iq zavřít 21\n",
      "8     rozvrátila kolaborantská nepřátelských totalit...\n",
      "9         opravdově nezapomene přemýšlet soudruzi začít\n",
      "10      čech zahynulých rehabilitován naznal ribbentrop\n",
      "11             ukrajina napadnout ovčáčka zapotit rusko\n",
      "12             a1tnick a1_divize_ss_ c3 galizien banner\n",
      "13               roztrhani roztrhat hrdy precetl nelibi\n",
      "14       podklady nedokládají trumpa dloubají npolitiku\n",
      "15                      zatahat výstava louce běhat psů\n",
      "16                  nenapil břečky šmelí skřetí russaci\n",
      "17             pastevcu covavu prekousne vterinu zapasy\n",
      "18           historii uctívat dávné připomínat válečnou\n",
      "19                     nebohý hitlera čeho rusko nebylo\n",
      "Name: content, dtype: object\n",
      "CPU times: user 7min 35s, sys: 162 ms, total: 7min 35s\n",
      "Wall time: 7min 36s\n"
     ]
    }
   ],
   "source": [
    "%%time\n",
    "\n",
    "x = komm.dropna()[\"content\"].head(20).apply(str).apply(lambda x : re.sub(r\"\\W+\",\" \",x.replace(\"\\n\", \"\").lower()).split(\" \")).apply(TfIdfbest5)\n",
    "\n",
    "print(\"\\n\")\n",
    "print(logy)\n",
    "print(\"\\n\\n\")\n",
    "print(x)"
   ]
  },
  {
   "cell_type": "markdown",
   "id": "6f1f7ea6-b95b-47dc-875c-d012bb6ba2a4",
   "metadata": {
    "jp-MarkdownHeadingCollapsed": true,
    "tags": []
   },
   "source": [
    "#### Aplikace na komentáře když je pole _logy_ obsahuji jiz prvnich 20"
   ]
  },
  {
   "cell_type": "code",
   "execution_count": 88,
   "id": "52d2ebeb-8e2a-46d9-b363-7b2e7cc764ae",
   "metadata": {},
   "outputs": [
    {
     "name": "stdout",
     "output_type": "stream",
     "text": [
      "1 2 3 4 5 6 7 8 9 10 11 12 13 14 15 16 17 18 19 20 \n",
      "\n",
      "vystudovala    4.142642\n",
      "matematiku     3.721839\n",
      "a              0.029928\n",
      "propaguje      3.791765\n",
      "vědu           3.710844\n",
      "                 ...   \n",
      "okresce        4.378405\n",
      "motorka        3.691727\n",
      "ďábel          4.038746\n",
      "poslední       2.011743\n",
      "chvíli         2.394244\n",
      "Length: 2023, dtype: float64\n",
      "\n",
      "\n",
      "\n",
      "0             danica mckellar zivotopis vystudovala php\n",
      "1      feministkám nanynka rovnoprávnost nepraskne 50km\n",
      "2                  hadi název křovinář masožravci kobry\n",
      "3     nkritizujete zastupitelskému zelenského králov...\n",
      "4                           koule ceni naopak maji dnes\n",
      "5                nrusskije vlajky symbol zločinné hnutí\n",
      "6         ukrajiny zhořklo nesjednotil zaslané snadného\n",
      "7                         nepouštět šmejdy iq zavřít 21\n",
      "8     rozvrátila kolaborantská nepřátelských totalit...\n",
      "9         opravdově nezapomene přemýšlet soudruzi začít\n",
      "10      čech zahynulých rehabilitován naznal ribbentrop\n",
      "11             ukrajina napadnout ovčáčka zapotit rusko\n",
      "12             a1tnick a1_divize_ss_ c3 galizien banner\n",
      "13               roztrhani roztrhat hrdy precetl nelibi\n",
      "14       podklady nedokládají trumpa dloubají npolitiku\n",
      "15                      zatahat výstava louce běhat psů\n",
      "16                  nenapil břečky šmelí skřetí russaci\n",
      "17             pastevcu covavu prekousne vterinu zapasy\n",
      "18           historii uctívat dávné připomínat válečnou\n",
      "19                     nebohý hitlera čeho rusko nebylo\n",
      "Name: content, dtype: object\n",
      "CPU times: user 1.44 s, sys: 3.03 ms, total: 1.44 s\n",
      "Wall time: 1.44 s\n"
     ]
    }
   ],
   "source": [
    "%%time\n",
    "\n",
    "i= 1\n",
    "x = komm.dropna()[\"content\"].head(20).apply(str).apply(lambda x : re.sub(r\"\\W+\",\" \",x.replace(\"\\n\", \"\").lower()).split(\" \")).apply(TfIdfbest5)\n",
    "\n",
    "print(\"\\n\")\n",
    "print(logy)\n",
    "print(\"\\n\\n\")\n",
    "print(x)"
   ]
  },
  {
   "cell_type": "markdown",
   "id": "8b50d592-0b1e-46f6-9e2a-5a77a065190c",
   "metadata": {
    "jp-MarkdownHeadingCollapsed": true,
    "tags": []
   },
   "source": [
    "#### Aplikace na prvních 100 komentářů"
   ]
  },
  {
   "cell_type": "code",
   "execution_count": 85,
   "id": "73b37c51-a48d-4d92-a30c-a982746a9d29",
   "metadata": {},
   "outputs": [
    {
     "name": "stdout",
     "output_type": "stream",
     "text": [
      "1 2 3 4 5 6 7 8 9 10 11 12 13 14 15 16 17 18 19 20 21 22 23 24 25 26 27 28 29 30 31 32 33 34 35 36 37 38 39 40 41 42 43 44 45 46 47 48 49 50 51 52 53 54 55 56 57 58 59 60 61 62 63 64 65 66 67 68 69 70 71 72 73 74 75 76 77 78 79 80 81 82 83 84 85 86 87 88 89 90 91 92 93 94 95 96 97 98 99 100 \n",
      "\n",
      "vystudovala    4.142642\n",
      "matematiku     3.721839\n",
      "a              0.029928\n",
      "propaguje      3.791765\n",
      "vědu           3.710844\n",
      "                 ...   \n",
      "okresce        4.378405\n",
      "motorka        3.691727\n",
      "ďábel          4.038746\n",
      "poslední       2.011743\n",
      "chvíli         2.394244\n",
      "Length: 2023, dtype: float64\n",
      "\n",
      "\n",
      "\n",
      "0             danica mckellar zivotopis vystudovala php\n",
      "1      feministkám nanynka rovnoprávnost nepraskne 50km\n",
      "2                  hadi název křovinář masožravci kobry\n",
      "3     nkritizujete zastupitelskému zelenského králov...\n",
      "4                           koule ceni naopak maji dnes\n",
      "                            ...                        \n",
      "95              čína zděšena spokojená nesmyslné vydělá\n",
      "96                   komínku nnepřipadá ano hnutí npane\n",
      "97    ethanolu metabolit formaldehyd nemetabolizovan...\n",
      "98            obdarují vystrčilem vzájemně panem hrdina\n",
      "99     nedání přednosti milisekundy motorkám uživatelem\n",
      "Name: content, Length: 100, dtype: object\n",
      "CPU times: user 19min 23s, sys: 126 ms, total: 19min 24s\n",
      "Wall time: 19min 23s\n"
     ]
    }
   ],
   "source": [
    "%%time\n",
    "\n",
    "i= 1\n",
    "x = komm.dropna()[\"content\"].head(100).apply(str).apply(lambda x : re.sub(r\"\\W+\",\" \",x.replace(\"\\n\", \"\").lower()).split(\" \")).apply(TfIdfbest5)\n",
    "\n",
    "print(\"\\n\")\n",
    "print(logy)\n",
    "print(\"\\n\\n\")\n",
    "print(x)"
   ]
  },
  {
   "cell_type": "code",
   "execution_count": 87,
   "id": "e986a468-804f-4530-99b3-bacc7a2e64dc",
   "metadata": {},
   "outputs": [
    {
     "name": "stdout",
     "output_type": "stream",
     "text": [
      "1 2 3 4 5 6 7 8 9 10 11 12 13 14 15 16 17 18 19 20 21 22 23 24 25 26 27 28 29 30 31 32 33 34 35 36 37 38 39 40 41 42 43 44 45 46 47 48 49 50 51 52 53 54 55 56 57 58 59 60 61 62 63 64 65 66 67 68 69 70 71 72 73 74 75 76 77 78 79 80 81 82 83 84 85 86 87 88 89 90 91 92 93 94 95 96 97 98 99 100 \n",
      "\n",
      "vystudovala    4.142642\n",
      "matematiku     3.721839\n",
      "a              0.029928\n",
      "propaguje      3.791765\n",
      "vědu           3.710844\n",
      "                 ...   \n",
      "okresce        4.378405\n",
      "motorka        3.691727\n",
      "ďábel          4.038746\n",
      "poslední       2.011743\n",
      "chvíli         2.394244\n",
      "Length: 2023, dtype: float64\n",
      "\n",
      "\n",
      "\n",
      "0             danica mckellar zivotopis vystudovala php\n",
      "1      feministkám nanynka rovnoprávnost nepraskne 50km\n",
      "2                  hadi název křovinář masožravci kobry\n",
      "3     nkritizujete zastupitelskému zelenského králov...\n",
      "4                           koule ceni naopak maji dnes\n",
      "                            ...                        \n",
      "95              čína zděšena spokojená nesmyslné vydělá\n",
      "96                   komínku nnepřipadá ano hnutí npane\n",
      "97    ethanolu metabolit formaldehyd nemetabolizovan...\n",
      "98            obdarují vystrčilem vzájemně panem hrdina\n",
      "99     nedání přednosti milisekundy motorkám uživatelem\n",
      "Name: content, Length: 100, dtype: object\n",
      "CPU times: user 1.61 s, sys: 3.07 ms, total: 1.62 s\n",
      "Wall time: 1.62 s\n"
     ]
    }
   ],
   "source": [
    "%%time\n",
    "\n",
    "i= 1\n",
    "x = komm.dropna()[\"content\"].head(100).apply(str).apply(lambda x : re.sub(r\"\\W+\",\" \",x.replace(\"\\n\", \"\").lower()).split(\" \")).apply(TfIdfbest5)\n",
    "\n",
    "print(\"\\n\")\n",
    "print(logy)\n",
    "print(\"\\n\\n\")\n",
    "print(x)"
   ]
  },
  {
   "cell_type": "markdown",
   "id": "77353d29-4774-4762-af03-ded42009b473",
   "metadata": {
    "tags": []
   },
   "source": [
    "#### testovani s mensimi ulozenymi daty\n"
   ]
  },
  {
   "cell_type": "markdown",
   "id": "f4da3185-73b5-4e13-8dbe-ff55cb6ef40f",
   "metadata": {},
   "source": [
    "Zredukovali jsme počet uložených na polovinu, smazali jsme nesmysli které byli inf"
   ]
  },
  {
   "cell_type": "code",
   "execution_count": 122,
   "id": "512ac071-178f-4e4c-babc-24231fbd8ca3",
   "metadata": {},
   "outputs": [],
   "source": [
    "avg = 0\n",
    "\n",
    "def infout(x):\n",
    "    if str(x) =='inf':\n",
    "        return None\n",
    "    return x\n",
    "def greatout(x):\n",
    "    if x >= avg:\n",
    "        return None\n",
    "    return x\n",
    "\n",
    "\n",
    "fixed = logy.apply(infout).dropna()\n",
    "avg = fixed.sum() / fixed.count()\n",
    "fixed = fixed.apply(greatout).dropna()"
   ]
  },
  {
   "cell_type": "markdown",
   "id": "fbd00a08-8148-4d0e-babe-51a28bb515dd",
   "metadata": {},
   "source": [
    "less tf-idf"
   ]
  },
  {
   "cell_type": "code",
   "execution_count": 123,
   "id": "6e6c275b-5183-4592-a342-053ecbfe5cbe",
   "metadata": {},
   "outputs": [],
   "source": [
    "def LTfIdfbest5(comment):\n",
    "    global i\n",
    "    print(i, end=\" \")\n",
    "    i += 1\n",
    "    unique = pd.Series(index = UnikatniSlova(comment), dtype=int)\n",
    "    for slovo in unique.index:\n",
    "        if slovo == '':\n",
    "            continue\n",
    "        a = 0\n",
    "        if fixed.get(slovo, default = 0) != 0:\n",
    "            a = fixed.at[slovo]\n",
    "        else:\n",
    "            a = math.log10(count / commenty.filter(like=slovo).count())\n",
    "        unique.at[slovo] = TfIdf(comment, slovo, a)\n",
    "    \n",
    "    reverse = pd.Series(index = unique.values, data = unique.index).sort_index(ascending=False)\n",
    "    return \" \".join(reverse.head(5).values)\n",
    "    \n",
    "        \n",
    "        "
   ]
  },
  {
   "cell_type": "code",
   "execution_count": 124,
   "id": "95c44bba-a843-4abe-ba01-a47961869142",
   "metadata": {},
   "outputs": [
    {
     "name": "stdout",
     "output_type": "stream",
     "text": [
      "1 2 3 4 5 6 7 8 9 10 11 12 13 14 15 16 17 18 19 20 21 22 23 24 25 26 27 28 29 30 31 32 33 34 35 36 37 38 39 40 41 42 43 44 45 46 47 48 49 50 51 52 53 54 55 56 57 58 59 60 61 62 63 64 65 66 67 68 69 70 71 72 73 74 75 76 77 78 79 80 81 82 83 84 85 86 87 88 89 90 91 92 93 94 95 96 97 98 99 100 \n",
      "\n",
      "vystudovala    4.142642\n",
      "matematiku     3.721839\n",
      "a              0.029928\n",
      "propaguje      3.791765\n",
      "vědu           3.710844\n",
      "                 ...   \n",
      "okresce        4.378405\n",
      "motorka        3.691727\n",
      "ďábel          4.038746\n",
      "poslední       2.011743\n",
      "chvíli         2.394244\n",
      "Length: 2023, dtype: float64\n",
      "\n",
      "\n",
      "\n",
      "0             danica mckellar zivotopis vystudovala php\n",
      "1      feministkám nanynka rovnoprávnost nepraskne 50km\n",
      "2                  hadi název křovinář masožravci kobry\n",
      "3     nkritizujete zastupitelskému zelenského králov...\n",
      "4                           koule ceni naopak maji dnes\n",
      "                            ...                        \n",
      "95              čína zděšena spokojená nesmyslné vydělá\n",
      "96                   komínku nnepřipadá ano hnutí npane\n",
      "97    ethanolu metabolit formaldehyd nemetabolizovan...\n",
      "98            obdarují vystrčilem vzájemně panem hrdina\n",
      "99     nedání přednosti milisekundy motorkám uživatelem\n",
      "Name: content, Length: 100, dtype: object\n",
      "CPU times: user 13min 46s, sys: 201 ms, total: 13min 46s\n",
      "Wall time: 13min 46s\n"
     ]
    }
   ],
   "source": [
    "%%time\n",
    "\n",
    "i= 1\n",
    "x = komm.dropna()[\"content\"].head(100).apply(str).apply(lambda x : re.sub(r\"\\W+\",\" \",x.replace(\"\\n\", \"\").lower()).split(\" \")).apply(LTfIdfbest5)\n",
    "\n",
    "print(\"\\n\")\n",
    "print(logy)\n",
    "print(\"\\n\\n\")\n",
    "print(x)"
   ]
  },
  {
   "cell_type": "code",
   "execution_count": null,
   "id": "88caf965-b6e5-4826-8937-128e04da2742",
   "metadata": {},
   "outputs": [],
   "source": []
  }
 ],
 "metadata": {
  "kernelspec": {
   "display_name": "Python 3 (ipykernel)",
   "language": "python",
   "name": "python3"
  },
  "language_info": {
   "codemirror_mode": {
    "name": "ipython",
    "version": 3
   },
   "file_extension": ".py",
   "mimetype": "text/x-python",
   "name": "python",
   "nbconvert_exporter": "python",
   "pygments_lexer": "ipython3",
   "version": "3.9.12"
  }
 },
 "nbformat": 4,
 "nbformat_minor": 5
}
