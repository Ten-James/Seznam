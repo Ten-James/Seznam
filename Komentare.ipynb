{
 "cells": [
  {
   "cell_type": "markdown",
   "id": "c891129c-9fd7-4541-814e-c815596e0933",
   "metadata": {},
   "source": [
    "# Komentáře\n"
   ]
  },
  {
   "cell_type": "code",
   "execution_count": 15,
   "id": "603cb4ce-6b9d-48d7-8291-f8b9826cbcde",
   "metadata": {},
   "outputs": [],
   "source": [
    "import pandas as pd\n",
    "import matplotlib.pyplot as plt\n",
    "import datetime\n",
    "import math\n",
    "import re"
   ]
  },
  {
   "cell_type": "code",
   "execution_count": 3,
   "id": "2616bda8-bd0a-4f57-b931-d24b120723bd",
   "metadata": {},
   "outputs": [
    {
     "name": "stderr",
     "output_type": "stream",
     "text": [
      "/tmp/ipykernel_7745/3054238295.py:1: DtypeWarning: Columns (0,1,2,3) have mixed types. Specify dtype option on import or set low_memory=False.\n",
      "  komm = pd.read_csv(\"komentare.csv\", sep='\\t')\n"
     ]
    },
    {
     "data": {
      "text/html": [
       "<div>\n",
       "<style scoped>\n",
       "    .dataframe tbody tr th:only-of-type {\n",
       "        vertical-align: middle;\n",
       "    }\n",
       "\n",
       "    .dataframe tbody tr th {\n",
       "        vertical-align: top;\n",
       "    }\n",
       "\n",
       "    .dataframe thead th {\n",
       "        text-align: right;\n",
       "    }\n",
       "</style>\n",
       "<table border=\"1\" class=\"dataframe\">\n",
       "  <thead>\n",
       "    <tr style=\"text-align: right;\">\n",
       "      <th></th>\n",
       "      <th>user_id</th>\n",
       "      <th>level</th>\n",
       "      <th>content</th>\n",
       "      <th>created_date</th>\n",
       "    </tr>\n",
       "  </thead>\n",
       "  <tbody>\n",
       "    <tr>\n",
       "      <th>0</th>\n",
       "      <td>57213576</td>\n",
       "      <td>1</td>\n",
       "      <td>vystudovala matematiku a propaguje vědu 🙂........</td>\n",
       "      <td>2022-05-09 15:42:34</td>\n",
       "    </tr>\n",
       "    <tr>\n",
       "      <th>1</th>\n",
       "      <td>10489255</td>\n",
       "      <td>0</td>\n",
       "      <td>Tak kde teda vlastně začíná a končí ta rovnopr...</td>\n",
       "      <td>2022-05-09 15:42:25</td>\n",
       "    </tr>\n",
       "    <tr>\n",
       "      <th>2</th>\n",
       "      <td>73562771</td>\n",
       "      <td>1</td>\n",
       "      <td>A mě by ještě zajímalo, co ti hadi žerou, když...</td>\n",
       "      <td>2022-05-09 15:42:14</td>\n",
       "    </tr>\n",
       "    <tr>\n",
       "      <th>3</th>\n",
       "      <td>1978370</td>\n",
       "      <td>0</td>\n",
       "      <td>jsem pro mír. Ale naše okresní město Hradec Kr...</td>\n",
       "      <td>2022-05-09 15:42:12</td>\n",
       "    </tr>\n",
       "    <tr>\n",
       "      <th>4</th>\n",
       "      <td>775926</td>\n",
       "      <td>1</td>\n",
       "      <td>Naopak maji koule a to se dnes ceni</td>\n",
       "      <td>2022-05-09 15:41:41</td>\n",
       "    </tr>\n",
       "    <tr>\n",
       "      <th>...</th>\n",
       "      <td>...</td>\n",
       "      <td>...</td>\n",
       "      <td>...</td>\n",
       "      <td>...</td>\n",
       "    </tr>\n",
       "    <tr>\n",
       "      <th>1422715</th>\n",
       "      <td>99972689</td>\n",
       "      <td>1</td>\n",
       "      <td>Perfektní!</td>\n",
       "      <td>2022-04-09 00:00:23</td>\n",
       "    </tr>\n",
       "    <tr>\n",
       "      <th>1422716</th>\n",
       "      <td>6781888</td>\n",
       "      <td>1</td>\n",
       "      <td>A které body Minských dohod od roku 2014 to vl...</td>\n",
       "      <td>2022-04-09 00:00:22</td>\n",
       "    </tr>\n",
       "    <tr>\n",
       "      <th>1422717</th>\n",
       "      <td>13964387</td>\n",
       "      <td>1</td>\n",
       "      <td>oni si poradí tanky s krabic jsou taky tanky 😄</td>\n",
       "      <td>2022-04-09 00:00:13</td>\n",
       "    </tr>\n",
       "    <tr>\n",
       "      <th>1422718</th>\n",
       "      <td>58868252</td>\n",
       "      <td>1</td>\n",
       "      <td>Vcelku souhlas, ale nevidím, že by někomu nyní...</td>\n",
       "      <td>2022-04-09 00:00:11</td>\n",
       "    </tr>\n",
       "    <tr>\n",
       "      <th>1422719</th>\n",
       "      <td>25527418</td>\n",
       "      <td>0</td>\n",
       "      <td>Neberte úplatky! Neberte úplatky! Nebo se z to...</td>\n",
       "      <td>2022-04-09 00:00:08</td>\n",
       "    </tr>\n",
       "  </tbody>\n",
       "</table>\n",
       "<p>1422720 rows × 4 columns</p>\n",
       "</div>"
      ],
      "text/plain": [
       "          user_id level                                            content  \\\n",
       "0        57213576     1  vystudovala matematiku a propaguje vědu 🙂........   \n",
       "1        10489255     0  Tak kde teda vlastně začíná a končí ta rovnopr...   \n",
       "2        73562771     1  A mě by ještě zajímalo, co ti hadi žerou, když...   \n",
       "3         1978370     0  jsem pro mír. Ale naše okresní město Hradec Kr...   \n",
       "4          775926     1                Naopak maji koule a to se dnes ceni   \n",
       "...           ...   ...                                                ...   \n",
       "1422715  99972689     1                                         Perfektní!   \n",
       "1422716   6781888     1  A které body Minských dohod od roku 2014 to vl...   \n",
       "1422717  13964387     1    oni si poradí tanky s krabic jsou taky tanky 😄    \n",
       "1422718  58868252     1  Vcelku souhlas, ale nevidím, že by někomu nyní...   \n",
       "1422719  25527418     0  Neberte úplatky! Neberte úplatky! Nebo se z to...   \n",
       "\n",
       "                created_date  \n",
       "0        2022-05-09 15:42:34  \n",
       "1        2022-05-09 15:42:25  \n",
       "2        2022-05-09 15:42:14  \n",
       "3        2022-05-09 15:42:12  \n",
       "4        2022-05-09 15:41:41  \n",
       "...                      ...  \n",
       "1422715  2022-04-09 00:00:23  \n",
       "1422716  2022-04-09 00:00:22  \n",
       "1422717  2022-04-09 00:00:13  \n",
       "1422718  2022-04-09 00:00:11  \n",
       "1422719  2022-04-09 00:00:08  \n",
       "\n",
       "[1422720 rows x 4 columns]"
      ]
     },
     "execution_count": 3,
     "metadata": {},
     "output_type": "execute_result"
    }
   ],
   "source": [
    "komm = pd.read_csv(\"komentare.csv\", sep='\\t')\n",
    "komm"
   ]
  },
  {
   "cell_type": "markdown",
   "id": "b7d9c83a-d1fa-4a26-8f0b-f1018f219e99",
   "metadata": {},
   "source": [
    "## Jaké je rozložení délky komentáře - na počet znaků (nastudovat, co je to histogram) "
   ]
  },
  {
   "cell_type": "code",
   "execution_count": 21,
   "id": "e4daa0af-6087-4102-9904-6859b4871e74",
   "metadata": {},
   "outputs": [
    {
     "data": {
      "text/plain": [
       "0           97\n",
       "1          308\n",
       "2          307\n",
       "3          346\n",
       "4           35\n",
       "          ... \n",
       "1422715     10\n",
       "1422716     69\n",
       "1422717     47\n",
       "1422718    184\n",
       "1422719     59\n",
       "Name: content, Length: 1422720, dtype: int64"
      ]
     },
     "execution_count": 21,
     "metadata": {},
     "output_type": "execute_result"
    }
   ],
   "source": [
    "cont = komm[\"content\"]\n",
    "cont.apply(str).apply(len)"
   ]
  },
  {
   "cell_type": "markdown",
   "id": "16b3a2d2-d099-49d9-96c4-5041317608c0",
   "metadata": {},
   "source": [
    "## Histogram dne. V kterém časovém období dne píšou lidé nejvíc komentáře?"
   ]
  },
  {
   "cell_type": "code",
   "execution_count": 39,
   "id": "ebf461f4-603b-4f1f-b959-c28268c8a81d",
   "metadata": {},
   "outputs": [
    {
     "name": "stdout",
     "output_type": "stream",
     "text": [
      "CPU times: user 13.4 s, sys: 95.7 ms, total: 13.5 s\n",
      "Wall time: 13.5 s\n"
     ]
    }
   ],
   "source": [
    "%%time\n",
    "histo = komm['created_date'].dropna()\n",
    "histo = histo.apply(lambda x: datetime.datetime.strptime(str(x), \"%Y-%m-%d %H:%M:%S\").hour)\n"
   ]
  },
  {
   "cell_type": "code",
   "execution_count": 41,
   "id": "132e1567-dffc-4160-a734-7b0c82602a23",
   "metadata": {},
   "outputs": [
    {
     "name": "stdout",
     "output_type": "stream",
     "text": [
      "CPU times: user 947 ms, sys: 85.3 ms, total: 1.03 s\n",
      "Wall time: 1.03 s\n"
     ]
    }
   ],
   "source": [
    "%%time\n",
    "histo = komm['created_date'].dropna()\n",
    "## bez pretypovani je to znatelne rychlejsi\n",
    "histo = histo.apply(lambda x: str(x)[str(x).index(' '):str(x).index(' ')+2:1])"
   ]
  },
  {
   "cell_type": "code",
   "execution_count": 85,
   "id": "eb973bf1-7152-48b7-9a62-783423247567",
   "metadata": {},
   "outputs": [
    {
     "data": {
      "text/plain": [
       "<AxesSubplot:ylabel='Frequency'>"
      ]
     },
     "execution_count": 85,
     "metadata": {},
     "output_type": "execute_result"
    },
    {
     "data": {
      "image/png": "[encoded data removed]",
      "text/plain": [
       "<Figure size 432x288 with 1 Axes>"
      ]
     },
     "metadata": {
      "needs_background": "light"
     },
     "output_type": "display_data"
    }
   ],
   "source": [
    "# 24 * 2 - 1 = 47\n",
    "# pocet mezer je o 1 min nez pocet sloupcu\n",
    "histo.plot.hist(bins=47, logy=True)"
   ]
  },
  {
   "cell_type": "markdown",
   "id": "845e3c53-92b5-4b6e-bad8-494323bb1a74",
   "metadata": {},
   "source": [
    "## Jaký je poměr komentářů na první (level=0) a druhé úrovni (level=1)"
   ]
  },
  {
   "cell_type": "markdown",
   "id": "823a48b4-91fa-4709-a0dd-8f77a156ad28",
   "metadata": {},
   "source": [
    "### Řešení č.1 \n",
    "- je znatelně rychlejší než regex ale o to je hůř čitelnější"
   ]
  },
  {
   "cell_type": "code",
   "execution_count": 42,
   "id": "a6e86dc4-9431-475b-84b1-eae7f0c225e7",
   "metadata": {},
   "outputs": [
    {
     "name": "stdout",
     "output_type": "stream",
     "text": [
      "POMER uroven1:uroven2 424129:707428\n",
      "CPU times: user 1.08 s, sys: 903 µs, total: 1.08 s\n",
      "Wall time: 1.08 s\n"
     ]
    }
   ],
   "source": [
    "%%time\n",
    "\n",
    "def tint(x):\n",
    "    try:\n",
    "        return int(x)\n",
    "    except ValueError:\n",
    "        return -1\n",
    "\n",
    "\n",
    "\n",
    "l = komm['level']\n",
    "c1 = 0\n",
    "c2 = 0\n",
    "#hodne trapne reseni\n",
    "for index, value in l.items():\n",
    "    if tint(value) == 0:\n",
    "        c1+=1\n",
    "    elif tint(value) == 1:\n",
    "        c2+=1\n",
    "\n",
    "d = math.gcd(c1, c2)  \n",
    "#print(d)\n",
    "c1 = int(c1 / d);\n",
    "c2 = int(c2 / d);\n",
    "print(f\"POMER uroven1:uroven2 {c1}:{c2}\")"
   ]
  },
  {
   "cell_type": "markdown",
   "id": "520b65e5-671a-4c4e-80ba-c84a1f43009a",
   "metadata": {},
   "source": [
    "### Řešení č.2\n",
    "- Využití Regexu"
   ]
  },
  {
   "cell_type": "code",
   "execution_count": 43,
   "id": "9ab3167a-bb5d-47d8-9f01-f33b49b565e7",
   "metadata": {},
   "outputs": [
    {
     "name": "stdout",
     "output_type": "stream",
     "text": [
      "POMER uroven1:uroven2 424129:707428\n",
      "CPU times: user 4.07 s, sys: 262 ms, total: 4.33 s\n",
      "Wall time: 4.32 s\n"
     ]
    }
   ],
   "source": [
    "%%time\n",
    "ll = komm.set_index('level')[\"user_id\"]\n",
    "\n",
    "l1 = ll.filter(regex=r\"^0\")\n",
    "l2 = ll.filter(regex=r\"^1\")\n",
    "\n",
    "c1 = l1.count()\n",
    "c2 = l2.count()\n",
    "\n",
    "d = math.gcd(c1,c2)\n",
    "\n",
    "print(f\"POMER uroven1:uroven2 {int(c1/d)}:{int(c2/d)}\")"
   ]
  },
  {
   "cell_type": "markdown",
   "id": "35a498aa-8352-4a02-979f-e2707e85b311",
   "metadata": {},
   "source": [
    "## Kolik unikátních uživatelů napsalo minulý měsíc komentář?"
   ]
  },
  {
   "cell_type": "code",
   "execution_count": 47,
   "id": "62af41dd-3a7f-4721-b9e9-82d6ad207adf",
   "metadata": {},
   "outputs": [
    {
     "name": "stdout",
     "output_type": "stream",
     "text": [
      "CPU times: user 1.46 s, sys: 164 ms, total: 1.62 s\n",
      "Wall time: 1.64 s\n"
     ]
    },
    {
     "data": {
      "text/plain": [
       "70744"
      ]
     },
     "execution_count": 47,
     "metadata": {},
     "output_type": "execute_result"
    }
   ],
   "source": [
    "%%time\n",
    "today = datetime.date.today()\n",
    "first = today.replace(day=1)\n",
    "lastMonth = first - datetime.timedelta(days=1)\n",
    "yearMonth = lastMonth.strftime(\"%Y-%m\")\n",
    "\n",
    "last_m = komm.set_index(\"user_id\")[\"created_date\"].dropna()\n",
    "last_m = last_m.apply(lambda x: str(x)[0:7:1])\n",
    "reverse = pd.Series(data=last_m.index,index=last_m.values)\n",
    "reverse.filter(like=yearMonth).drop_duplicates().count()\n"
   ]
  },
  {
   "cell_type": "markdown",
   "id": "d74fefc5-490c-4286-96b8-10bd7b8068e6",
   "metadata": {},
   "source": [
    "## Vypsat prvních 100 nejaktivnějších přispěvatelů."
   ]
  },
  {
   "cell_type": "code",
   "execution_count": 63,
   "id": "5769fccd-c685-4fa5-80d4-bafada897c28",
   "metadata": {},
   "outputs": [
    {
     "data": {
      "text/plain": [
       "['1076207',\n",
       " '110669851',\n",
       " '777223',\n",
       " '29255935',\n",
       " '15911976',\n",
       " '8305572',\n",
       " '15200198',\n",
       " '9766466',\n",
       " '21226504',\n",
       " '3091490',\n",
       " '7314619',\n",
       " '33778487',\n",
       " '25862381',\n",
       " '27491091',\n",
       " '94194026',\n",
       " '111227721',\n",
       " '9274686',\n",
       " '96041897',\n",
       " '31535430',\n",
       " '109873414',\n",
       " '10925447',\n",
       " '6691805',\n",
       " '12249702',\n",
       " '2971285',\n",
       " '123606051',\n",
       " '102400715',\n",
       " '2323135',\n",
       " '102790395',\n",
       " '6635944',\n",
       " '105055592',\n",
       " '69408498',\n",
       " '19050120',\n",
       " '4190557',\n",
       " '106685308',\n",
       " '96007007',\n",
       " '35815564',\n",
       " '32434969',\n",
       " '63337511',\n",
       " '498810',\n",
       " '41182835',\n",
       " '155883',\n",
       " '8845554',\n",
       " '6453565',\n",
       " '10945340',\n",
       " '9238387',\n",
       " '20395836',\n",
       " '1243315',\n",
       " '123512700',\n",
       " '17033079',\n",
       " '13725160',\n",
       " '42991533',\n",
       " '8712398',\n",
       " '101507519',\n",
       " '16420933',\n",
       " '13020447',\n",
       " '31222131',\n",
       " '1035946',\n",
       " '92112342',\n",
       " '109399360',\n",
       " '91228238',\n",
       " '5343455',\n",
       " '111139861',\n",
       " '59902640',\n",
       " '126744710',\n",
       " '123920360',\n",
       " '2801510',\n",
       " '11790696',\n",
       " '16755127',\n",
       " '108948380',\n",
       " '104966156',\n",
       " '150578',\n",
       " '125731119',\n",
       " '65104233',\n",
       " '13283053',\n",
       " '25906314',\n",
       " '9664516',\n",
       " '109979789',\n",
       " '8124766',\n",
       " '86733060',\n",
       " '17192810',\n",
       " '128443897',\n",
       " '31883568',\n",
       " '530095',\n",
       " '90269786',\n",
       " '1123753',\n",
       " '29579123',\n",
       " '9302294',\n",
       " '107948232',\n",
       " '102659991',\n",
       " '6475629',\n",
       " '504697',\n",
       " '107860680',\n",
       " '13717',\n",
       " '14254416',\n",
       " '117459402',\n",
       " '15433009',\n",
       " '7515948',\n",
       " '9982411',\n",
       " '120261',\n",
       " '18273183']"
      ]
     },
     "execution_count": 63,
     "metadata": {},
     "output_type": "execute_result"
    }
   ],
   "source": [
    "poleUid = pd.Series(komm.dropna()[\"user_id\"].values)\n",
    "poleUid.value_counts().head(100).index.tolist()"
   ]
  },
  {
   "cell_type": "markdown",
   "id": "9a6c929e-f641-4b68-a457-acc285569aa5",
   "metadata": {},
   "source": [
    "## Výzva z pokročilejších algoritmů: Pomocí algoritmu tf-idf extrahovat nejrelevantnější/nejvýznamnější slova z každého komentáře."
   ]
  },
  {
   "cell_type": "markdown",
   "id": "84c55a01-1f44-45e4-8304-96c8147a9404",
   "metadata": {},
   "source": [
    "### Řešení č.1"
   ]
  },
  {
   "cell_type": "markdown",
   "id": "a2b51f30-ebe0-4562-8f35-3cf05b0e1453",
   "metadata": {},
   "source": [
    "#### Získat list všech slov"
   ]
  },
  {
   "cell_type": "code",
   "execution_count": 18,
   "id": "eb028001-88bb-45b3-80b3-011b25737b5a",
   "metadata": {},
   "outputs": [],
   "source": [
    "def UnikatniSlova(veta):\n",
    "    slova = []\n",
    "    for veta in vety:\n",
    "        slova.extend(re.sub(r\"\\W+\",\" \",str(veta)).split(\" \"))\n",
    "    uslova = []\n",
    "    for slovo in slova:\n",
    "        if slovo not in uslova:\n",
    "            uslova.append(slovo)\n"
   ]
  },
  {
   "cell_type": "markdown",
   "id": "b33a54ef-7aec-4153-9d14-5a06a83a6e25",
   "metadata": {
    "tags": []
   },
   "source": [
    "#### Získat počet komentářu"
   ]
  },
  {
   "cell_type": "markdown",
   "id": "3e6ea994-42e5-4b25-aa96-0b549f147c8e",
   "metadata": {},
   "source": [
    "#### Každé slovo projít každým komentářem"
   ]
  },
  {
   "cell_type": "code",
   "execution_count": null,
   "id": "6039b388-936f-4c0c-8d11-dfc8665c2bc1",
   "metadata": {},
   "outputs": [],
   "source": []
  }
 ],
 "metadata": {
  "kernelspec": {
   "display_name": "Python 3 (ipykernel)",
   "language": "python",
   "name": "python3"
  },
  "language_info": {
   "codemirror_mode": {
    "name": "ipython",
    "version": 3
   },
   "file_extension": ".py",
   "mimetype": "text/x-python",
   "name": "python",
   "nbconvert_exporter": "python",
   "pygments_lexer": "ipython3",
   "version": "3.9.12"
  }
 },
 "nbformat": 4,
 "nbformat_minor": 5
}
