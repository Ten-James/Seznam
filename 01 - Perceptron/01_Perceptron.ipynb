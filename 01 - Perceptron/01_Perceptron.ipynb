{
 "cells": [
  {
   "cell_type": "markdown",
   "metadata": {},
   "source": [
    "# Neuronové sítě a perceptron\n",
    "\n",
    "## Co je to umělá inteligence?\n",
    "Když se řekne **umělá inteligence**, ne vždy se musí jednat o neuronovou síť. Z našeho pohledu je umělá inteligence chytrý algoritmus, který nám pomáhá řešit konkrétní úlohu bez toho, aniž bychom museli složitě nastavovat podmínky a tím říkat, jak se má tento algoritmus chovat.\n"
   ]
  },
  {
   "cell_type": "markdown",
   "metadata": {},
   "source": [
    "## Kde se s ní setkáme?\n",
    "- Počítačové hry\n",
    "- Autonomní vozidla\n",
    "- Lékařství, průmysl\n",
    "- Sociální sítě, vyhledávání na internetu\n",
    "- Spousta dalších míst...\n",
    "\n",
    "## K čemu neuronové sítě používáme?\n",
    "\n",
    "- Klasifikátory\n",
    "  - Řešením úlohy je klasifikace problému do jedné z N tříd (\"pes\", \"kočka\", \"kráva\")?\n",
    "- Detektory\n",
    "  - Svým způsobem se jedná o klasifikátor, který úlohu dělí pouze do 2 tříd. Detektor nám pouze říká \"ano\" nebo \"ne\"\n",
    "- Regrese\n",
    "  - Na základě známých veličin umíme odhadnout hodnotu nějaké neznámé veličiny"
   ]
  },
  {
   "cell_type": "markdown",
   "metadata": {},
   "source": [
    "# Přímky\n",
    "Ačkoli se to nezdá, přímky nám pomohou pochopit základy neuronových sítí. Určitě víte, že se dá přímka zapsat různými způsoby. Nejčastěji se setkáme s parametrickým, směrnicovým či obecným tvarem přímky. Jednotlivé tvary se mezi sebou dají převádět a každý z nich je většinou vhodný pro jiný typ využití.\n",
    "\n",
    "\n",
    "## Směrnicový tvar přímky\n",
    "$\n",
    "y = kx + q\n",
    "$\n",
    "- většinou známe směrnici `k` a posunutí na ose y `q`\n",
    "- typická úloha u přímky v tomto tvaru je zjistit, zda nějaký bod na této přímce leží, případně dopočítat za pomocí jedné souřadnice bodu druhou\n",
    "- pokud chceme přímku v tomto tvaru vykreslit, iterujeme hodnotu `x` (pomiňme nyní problémy s jemností vykreslení dopočítavané osy. Jenom si řekněme, že pro vykreslování přímky se lépe hodí parametrický tvar přímky)\n",
    "\n",
    "## Obecný tvar přímky\n",
    "$\n",
    "0 = ax + by + c\n",
    "$\n",
    "- typická úlohy u přímky v tomto tvaru jsou zjištění průsečíků či ověření, zda bod na přímce leží\n",
    "- můžeme využít nerovnosti a zjistit, na které polorovině se hledaný bod nachází\n",
    "\n",
    "Obecný tvar přímky můžeme jednoduše přepsat na směrnicový tvar:\n",
    "\n",
    "\\begin{align}\n",
    "0 & = ax + by + c \\\\\n",
    "by & = -ax - c \\\\\n",
    "y & = -\\frac{a}{b}x - \\frac{c}{b} \\\\\n",
    "k & = -\\frac{a}{b} \\\\\n",
    "q & = -\\frac{c}{b} \\\\\n",
    "y & = kx + q\n",
    "\\end{align}"
   ]
  },
  {
   "cell_type": "code",
   "execution_count": 11,
   "metadata": {},
   "outputs": [
    {
     "output_type": "display_data",
     "data": {
      "text/plain": "<Figure size 432x288 with 1 Axes>",
      "image/svg+xml": "<?xml version=\"1.0\" encoding=\"utf-8\" standalone=\"no\"?>\n<!DOCTYPE svg PUBLIC \"-//W3C//DTD SVG 1.1//EN\"\n  \"http://www.w3.org/Graphics/SVG/1.1/DTD/svg11.dtd\">\n<svg xmlns:xlink=\"http://www.w3.org/1999/xlink\" width=\"362.5625pt\" height=\"248.518125pt\" viewBox=\"0 0 362.5625 248.518125\" xmlns=\"http://www.w3.org/2000/svg\" version=\"1.1\">\n <metadata>\n  <rdf:RDF xmlns:dc=\"http://purl.org/dc/elements/1.1/\" xmlns:cc=\"http://creativecommons.org/ns#\" xmlns:rdf=\"http://www.w3.org/1999/02/22-rdf-syntax-ns#\">\n   <cc:Work>\n    <dc:type rdf:resource=\"http://purl.org/dc/dcmitype/StillImage\"/>\n    <dc:date>2022-05-18T13:46:15.799954</dc:date>\n    <dc:format>image/svg+xml</dc:format>\n    <dc:creator>\n     <cc:Agent>\n      <dc:title>Matplotlib v3.5.2, https://matplotlib.org/</dc:title>\n     </cc:Agent>\n    </dc:creator>\n   </cc:Work>\n  </rdf:RDF>\n </metadata>\n <defs>\n  <style type=\"text/css\">*{stroke-linejoin: round; stroke-linecap: butt}</style>\n </defs>\n <g id=\"figure_1\">\n  <g id=\"patch_1\">\n   <path d=\"M 0 248.518125 \nL 362.5625 248.518125 \nL 362.5625 0 \nL 0 0 \nL 0 248.518125 \nz\n\" style=\"fill: none\"/>\n  </g>\n  <g id=\"axes_1\">\n   <g id=\"patch_2\">\n    <path d=\"M 20.5625 224.64 \nL 355.3625 224.64 \nL 355.3625 7.2 \nL 20.5625 7.2 \nz\n\" style=\"fill: #ffffff\"/>\n   </g>\n   <g id=\"PathCollection_1\">\n    <defs>\n     <path id=\"mac1fdffbfe\" d=\"M 0 3 \nC 0.795609 3 1.55874 2.683901 2.12132 2.12132 \nC 2.683901 1.55874 3 0.795609 3 0 \nC 3 -0.795609 2.683901 -1.55874 2.12132 -2.12132 \nC 1.55874 -2.683901 0.795609 -3 0 -3 \nC -0.795609 -3 -1.55874 -2.683901 -2.12132 -2.12132 \nC -2.683901 -1.55874 -3 -0.795609 -3 0 \nC -3 0.795609 -2.683901 1.55874 -2.12132 2.12132 \nC -1.55874 2.683901 -0.795609 3 0 3 \nz\n\" style=\"stroke: #008000\"/>\n    </defs>\n    <g clip-path=\"url(#p096c26f334)\">\n     <use xlink:href=\"#mac1fdffbfe\" x=\"187.9625\" y=\"82.974545\" style=\"fill: #008000; stroke: #008000\"/>\n    </g>\n   </g>\n   <g id=\"PathCollection_2\">\n    <g clip-path=\"url(#p096c26f334)\">\n     <use xlink:href=\"#mac1fdffbfe\" x=\"264.053409\" y=\"170.829091\" style=\"fill: #008000; stroke: #008000\"/>\n    </g>\n   </g>\n   <g id=\"PathCollection_3\">\n    <g clip-path=\"url(#p096c26f334)\">\n     <use xlink:href=\"#mac1fdffbfe\" x=\"340.144318\" y=\"82.974545\" style=\"fill: #008000; stroke: #008000\"/>\n    </g>\n   </g>\n   <g id=\"matplotlib.axis_1\">\n    <g id=\"xtick_1\">\n     <g id=\"line2d_1\">\n      <defs>\n       <path id=\"m9706075a0c\" d=\"M 0 0 \nL 0 3.5 \n\" style=\"stroke: #000000; stroke-width: 0.8\"/>\n      </defs>\n      <g>\n       <use xlink:href=\"#m9706075a0c\" x=\"35.780682\" y=\"224.64\" style=\"stroke: #000000; stroke-width: 0.8\"/>\n      </g>\n     </g>\n     <g id=\"text_1\">\n      <!-- 0.00 -->\n      <g transform=\"translate(24.647869 239.238437)scale(0.1 -0.1)\">\n       <defs>\n        <path id=\"DejaVuSans-30\" d=\"M 2034 4250 \nQ 1547 4250 1301 3770 \nQ 1056 3291 1056 2328 \nQ 1056 1369 1301 889 \nQ 1547 409 2034 409 \nQ 2525 409 2770 889 \nQ 3016 1369 3016 2328 \nQ 3016 3291 2770 3770 \nQ 2525 4250 2034 4250 \nz\nM 2034 4750 \nQ 2819 4750 3233 4129 \nQ 3647 3509 3647 2328 \nQ 3647 1150 3233 529 \nQ 2819 -91 2034 -91 \nQ 1250 -91 836 529 \nQ 422 1150 422 2328 \nQ 422 3509 836 4129 \nQ 1250 4750 2034 4750 \nz\n\" transform=\"scale(0.015625)\"/>\n        <path id=\"DejaVuSans-2e\" d=\"M 684 794 \nL 1344 794 \nL 1344 0 \nL 684 0 \nL 684 794 \nz\n\" transform=\"scale(0.015625)\"/>\n       </defs>\n       <use xlink:href=\"#DejaVuSans-30\"/>\n       <use xlink:href=\"#DejaVuSans-2e\" x=\"63.623047\"/>\n       <use xlink:href=\"#DejaVuSans-30\" x=\"95.410156\"/>\n       <use xlink:href=\"#DejaVuSans-30\" x=\"159.033203\"/>\n      </g>\n     </g>\n    </g>\n    <g id=\"xtick_2\">\n     <g id=\"line2d_2\">\n      <g>\n       <use xlink:href=\"#m9706075a0c\" x=\"73.826136\" y=\"224.64\" style=\"stroke: #000000; stroke-width: 0.8\"/>\n      </g>\n     </g>\n     <g id=\"text_2\">\n      <!-- 0.25 -->\n      <g transform=\"translate(62.693324 239.238437)scale(0.1 -0.1)\">\n       <defs>\n        <path id=\"DejaVuSans-32\" d=\"M 1228 531 \nL 3431 531 \nL 3431 0 \nL 469 0 \nL 469 531 \nQ 828 903 1448 1529 \nQ 2069 2156 2228 2338 \nQ 2531 2678 2651 2914 \nQ 2772 3150 2772 3378 \nQ 2772 3750 2511 3984 \nQ 2250 4219 1831 4219 \nQ 1534 4219 1204 4116 \nQ 875 4013 500 3803 \nL 500 4441 \nQ 881 4594 1212 4672 \nQ 1544 4750 1819 4750 \nQ 2544 4750 2975 4387 \nQ 3406 4025 3406 3419 \nQ 3406 3131 3298 2873 \nQ 3191 2616 2906 2266 \nQ 2828 2175 2409 1742 \nQ 1991 1309 1228 531 \nz\n\" transform=\"scale(0.015625)\"/>\n        <path id=\"DejaVuSans-35\" d=\"M 691 4666 \nL 3169 4666 \nL 3169 4134 \nL 1269 4134 \nL 1269 2991 \nQ 1406 3038 1543 3061 \nQ 1681 3084 1819 3084 \nQ 2600 3084 3056 2656 \nQ 3513 2228 3513 1497 \nQ 3513 744 3044 326 \nQ 2575 -91 1722 -91 \nQ 1428 -91 1123 -41 \nQ 819 9 494 109 \nL 494 744 \nQ 775 591 1075 516 \nQ 1375 441 1709 441 \nQ 2250 441 2565 725 \nQ 2881 1009 2881 1497 \nQ 2881 1984 2565 2268 \nQ 2250 2553 1709 2553 \nQ 1456 2553 1204 2497 \nQ 953 2441 691 2322 \nL 691 4666 \nz\n\" transform=\"scale(0.015625)\"/>\n       </defs>\n       <use xlink:href=\"#DejaVuSans-30\"/>\n       <use xlink:href=\"#DejaVuSans-2e\" x=\"63.623047\"/>\n       <use xlink:href=\"#DejaVuSans-32\" x=\"95.410156\"/>\n       <use xlink:href=\"#DejaVuSans-35\" x=\"159.033203\"/>\n      </g>\n     </g>\n    </g>\n    <g id=\"xtick_3\">\n     <g id=\"line2d_3\">\n      <g>\n       <use xlink:href=\"#m9706075a0c\" x=\"111.871591\" y=\"224.64\" style=\"stroke: #000000; stroke-width: 0.8\"/>\n      </g>\n     </g>\n     <g id=\"text_3\">\n      <!-- 0.50 -->\n      <g transform=\"translate(100.738778 239.238437)scale(0.1 -0.1)\">\n       <use xlink:href=\"#DejaVuSans-30\"/>\n       <use xlink:href=\"#DejaVuSans-2e\" x=\"63.623047\"/>\n       <use xlink:href=\"#DejaVuSans-35\" x=\"95.410156\"/>\n       <use xlink:href=\"#DejaVuSans-30\" x=\"159.033203\"/>\n      </g>\n     </g>\n    </g>\n    <g id=\"xtick_4\">\n     <g id=\"line2d_4\">\n      <g>\n       <use xlink:href=\"#m9706075a0c\" x=\"149.917045\" y=\"224.64\" style=\"stroke: #000000; stroke-width: 0.8\"/>\n      </g>\n     </g>\n     <g id=\"text_4\">\n      <!-- 0.75 -->\n      <g transform=\"translate(138.784233 239.238437)scale(0.1 -0.1)\">\n       <defs>\n        <path id=\"DejaVuSans-37\" d=\"M 525 4666 \nL 3525 4666 \nL 3525 4397 \nL 1831 0 \nL 1172 0 \nL 2766 4134 \nL 525 4134 \nL 525 4666 \nz\n\" transform=\"scale(0.015625)\"/>\n       </defs>\n       <use xlink:href=\"#DejaVuSans-30\"/>\n       <use xlink:href=\"#DejaVuSans-2e\" x=\"63.623047\"/>\n       <use xlink:href=\"#DejaVuSans-37\" x=\"95.410156\"/>\n       <use xlink:href=\"#DejaVuSans-35\" x=\"159.033203\"/>\n      </g>\n     </g>\n    </g>\n    <g id=\"xtick_5\">\n     <g id=\"line2d_5\">\n      <g>\n       <use xlink:href=\"#m9706075a0c\" x=\"187.9625\" y=\"224.64\" style=\"stroke: #000000; stroke-width: 0.8\"/>\n      </g>\n     </g>\n     <g id=\"text_5\">\n      <!-- 1.00 -->\n      <g transform=\"translate(176.829688 239.238437)scale(0.1 -0.1)\">\n       <defs>\n        <path id=\"DejaVuSans-31\" d=\"M 794 531 \nL 1825 531 \nL 1825 4091 \nL 703 3866 \nL 703 4441 \nL 1819 4666 \nL 2450 4666 \nL 2450 531 \nL 3481 531 \nL 3481 0 \nL 794 0 \nL 794 531 \nz\n\" transform=\"scale(0.015625)\"/>\n       </defs>\n       <use xlink:href=\"#DejaVuSans-31\"/>\n       <use xlink:href=\"#DejaVuSans-2e\" x=\"63.623047\"/>\n       <use xlink:href=\"#DejaVuSans-30\" x=\"95.410156\"/>\n       <use xlink:href=\"#DejaVuSans-30\" x=\"159.033203\"/>\n      </g>\n     </g>\n    </g>\n    <g id=\"xtick_6\">\n     <g id=\"line2d_6\">\n      <g>\n       <use xlink:href=\"#m9706075a0c\" x=\"226.007955\" y=\"224.64\" style=\"stroke: #000000; stroke-width: 0.8\"/>\n      </g>\n     </g>\n     <g id=\"text_6\">\n      <!-- 1.25 -->\n      <g transform=\"translate(214.875142 239.238437)scale(0.1 -0.1)\">\n       <use xlink:href=\"#DejaVuSans-31\"/>\n       <use xlink:href=\"#DejaVuSans-2e\" x=\"63.623047\"/>\n       <use xlink:href=\"#DejaVuSans-32\" x=\"95.410156\"/>\n       <use xlink:href=\"#DejaVuSans-35\" x=\"159.033203\"/>\n      </g>\n     </g>\n    </g>\n    <g id=\"xtick_7\">\n     <g id=\"line2d_7\">\n      <g>\n       <use xlink:href=\"#m9706075a0c\" x=\"264.053409\" y=\"224.64\" style=\"stroke: #000000; stroke-width: 0.8\"/>\n      </g>\n     </g>\n     <g id=\"text_7\">\n      <!-- 1.50 -->\n      <g transform=\"translate(252.920597 239.238437)scale(0.1 -0.1)\">\n       <use xlink:href=\"#DejaVuSans-31\"/>\n       <use xlink:href=\"#DejaVuSans-2e\" x=\"63.623047\"/>\n       <use xlink:href=\"#DejaVuSans-35\" x=\"95.410156\"/>\n       <use xlink:href=\"#DejaVuSans-30\" x=\"159.033203\"/>\n      </g>\n     </g>\n    </g>\n    <g id=\"xtick_8\">\n     <g id=\"line2d_8\">\n      <g>\n       <use xlink:href=\"#m9706075a0c\" x=\"302.098864\" y=\"224.64\" style=\"stroke: #000000; stroke-width: 0.8\"/>\n      </g>\n     </g>\n     <g id=\"text_8\">\n      <!-- 1.75 -->\n      <g transform=\"translate(290.966051 239.238437)scale(0.1 -0.1)\">\n       <use xlink:href=\"#DejaVuSans-31\"/>\n       <use xlink:href=\"#DejaVuSans-2e\" x=\"63.623047\"/>\n       <use xlink:href=\"#DejaVuSans-37\" x=\"95.410156\"/>\n       <use xlink:href=\"#DejaVuSans-35\" x=\"159.033203\"/>\n      </g>\n     </g>\n    </g>\n    <g id=\"xtick_9\">\n     <g id=\"line2d_9\">\n      <g>\n       <use xlink:href=\"#m9706075a0c\" x=\"340.144318\" y=\"224.64\" style=\"stroke: #000000; stroke-width: 0.8\"/>\n      </g>\n     </g>\n     <g id=\"text_9\">\n      <!-- 2.00 -->\n      <g transform=\"translate(329.011506 239.238437)scale(0.1 -0.1)\">\n       <use xlink:href=\"#DejaVuSans-32\"/>\n       <use xlink:href=\"#DejaVuSans-2e\" x=\"63.623047\"/>\n       <use xlink:href=\"#DejaVuSans-30\" x=\"95.410156\"/>\n       <use xlink:href=\"#DejaVuSans-30\" x=\"159.033203\"/>\n      </g>\n     </g>\n    </g>\n   </g>\n   <g id=\"matplotlib.axis_2\">\n    <g id=\"ytick_1\">\n     <g id=\"line2d_10\">\n      <defs>\n       <path id=\"m657ac4acd9\" d=\"M 0 0 \nL -3.5 0 \n\" style=\"stroke: #000000; stroke-width: 0.8\"/>\n      </defs>\n      <g>\n       <use xlink:href=\"#m657ac4acd9\" x=\"20.5625\" y=\"214.756364\" style=\"stroke: #000000; stroke-width: 0.8\"/>\n      </g>\n     </g>\n     <g id=\"text_10\">\n      <!-- 0 -->\n      <g transform=\"translate(7.2 218.555582)scale(0.1 -0.1)\">\n       <use xlink:href=\"#DejaVuSans-30\"/>\n      </g>\n     </g>\n    </g>\n    <g id=\"ytick_2\">\n     <g id=\"line2d_11\">\n      <g>\n       <use xlink:href=\"#m657ac4acd9\" x=\"20.5625\" y=\"170.829091\" style=\"stroke: #000000; stroke-width: 0.8\"/>\n      </g>\n     </g>\n     <g id=\"text_11\">\n      <!-- 1 -->\n      <g transform=\"translate(7.2 174.62831)scale(0.1 -0.1)\">\n       <use xlink:href=\"#DejaVuSans-31\"/>\n      </g>\n     </g>\n    </g>\n    <g id=\"ytick_3\">\n     <g id=\"line2d_12\">\n      <g>\n       <use xlink:href=\"#m657ac4acd9\" x=\"20.5625\" y=\"126.901818\" style=\"stroke: #000000; stroke-width: 0.8\"/>\n      </g>\n     </g>\n     <g id=\"text_12\">\n      <!-- 2 -->\n      <g transform=\"translate(7.2 130.701037)scale(0.1 -0.1)\">\n       <use xlink:href=\"#DejaVuSans-32\"/>\n      </g>\n     </g>\n    </g>\n    <g id=\"ytick_4\">\n     <g id=\"line2d_13\">\n      <g>\n       <use xlink:href=\"#m657ac4acd9\" x=\"20.5625\" y=\"82.974545\" style=\"stroke: #000000; stroke-width: 0.8\"/>\n      </g>\n     </g>\n     <g id=\"text_13\">\n      <!-- 3 -->\n      <g transform=\"translate(7.2 86.773764)scale(0.1 -0.1)\">\n       <defs>\n        <path id=\"DejaVuSans-33\" d=\"M 2597 2516 \nQ 3050 2419 3304 2112 \nQ 3559 1806 3559 1356 \nQ 3559 666 3084 287 \nQ 2609 -91 1734 -91 \nQ 1441 -91 1130 -33 \nQ 819 25 488 141 \nL 488 750 \nQ 750 597 1062 519 \nQ 1375 441 1716 441 \nQ 2309 441 2620 675 \nQ 2931 909 2931 1356 \nQ 2931 1769 2642 2001 \nQ 2353 2234 1838 2234 \nL 1294 2234 \nL 1294 2753 \nL 1863 2753 \nQ 2328 2753 2575 2939 \nQ 2822 3125 2822 3475 \nQ 2822 3834 2567 4026 \nQ 2313 4219 1838 4219 \nQ 1578 4219 1281 4162 \nQ 984 4106 628 3988 \nL 628 4550 \nQ 988 4650 1302 4700 \nQ 1616 4750 1894 4750 \nQ 2613 4750 3031 4423 \nQ 3450 4097 3450 3541 \nQ 3450 3153 3228 2886 \nQ 3006 2619 2597 2516 \nz\n\" transform=\"scale(0.015625)\"/>\n       </defs>\n       <use xlink:href=\"#DejaVuSans-33\"/>\n      </g>\n     </g>\n    </g>\n    <g id=\"ytick_5\">\n     <g id=\"line2d_14\">\n      <g>\n       <use xlink:href=\"#m657ac4acd9\" x=\"20.5625\" y=\"39.047273\" style=\"stroke: #000000; stroke-width: 0.8\"/>\n      </g>\n     </g>\n     <g id=\"text_14\">\n      <!-- 4 -->\n      <g transform=\"translate(7.2 42.846491)scale(0.1 -0.1)\">\n       <defs>\n        <path id=\"DejaVuSans-34\" d=\"M 2419 4116 \nL 825 1625 \nL 2419 1625 \nL 2419 4116 \nz\nM 2253 4666 \nL 3047 4666 \nL 3047 1625 \nL 3713 1625 \nL 3713 1100 \nL 3047 1100 \nL 3047 0 \nL 2419 0 \nL 2419 1100 \nL 313 1100 \nL 313 1709 \nL 2253 4666 \nz\n\" transform=\"scale(0.015625)\"/>\n       </defs>\n       <use xlink:href=\"#DejaVuSans-34\"/>\n      </g>\n     </g>\n    </g>\n   </g>\n   <g id=\"line2d_15\">\n    <path d=\"M 35.780682 214.756364 \nL 41.992185 212.963414 \nL 48.203687 211.170464 \nL 54.41519 209.377514 \nL 60.626693 207.584564 \nL 66.838196 205.791614 \nL 73.049699 203.998664 \nL 79.261201 202.205714 \nL 85.472704 200.412764 \nL 91.684207 198.619814 \nL 97.89571 196.826865 \nL 104.107212 195.033915 \nL 110.318715 193.240965 \nL 116.530218 191.448015 \nL 122.741721 189.655065 \nL 128.953224 187.862115 \nL 135.164726 186.069165 \nL 141.376229 184.276215 \nL 147.587732 182.483265 \nL 153.799235 180.690315 \nL 160.010737 178.897365 \nL 166.22224 177.104416 \nL 172.433743 175.311466 \nL 178.645246 173.518516 \nL 184.856749 171.725566 \nL 191.068251 169.932616 \nL 197.279754 168.139666 \nL 203.491257 166.346716 \nL 209.70276 164.553766 \nL 215.914263 162.760816 \nL 222.125765 160.967866 \nL 228.337268 159.174917 \nL 234.548771 157.381967 \nL 240.760274 155.589017 \nL 246.971776 153.796067 \nL 253.183279 152.003117 \nL 259.394782 150.210167 \nL 265.606285 148.417217 \nL 271.817788 146.624267 \nL 278.02929 144.831317 \nL 284.240793 143.038367 \nL 290.452296 141.245417 \nL 296.663799 139.452468 \nL 302.875301 137.659518 \nL 309.086804 135.866568 \nL 315.298307 134.073618 \nL 321.50981 132.280668 \nL 327.721313 130.487718 \nL 333.932815 128.694768 \nL 340.144318 126.901818 \n\" clip-path=\"url(#p096c26f334)\" style=\"fill: none; stroke: #0000ff; stroke-width: 1.5; stroke-linecap: square\"/>\n   </g>\n   <g id=\"line2d_16\">\n    <path d=\"M 35.780682 192.792727 \nL 41.992185 189.206827 \nL 48.203687 185.620928 \nL 54.41519 182.035028 \nL 60.626693 178.449128 \nL 66.838196 174.863228 \nL 73.049699 171.277328 \nL 79.261201 167.691429 \nL 85.472704 164.105529 \nL 91.684207 160.519629 \nL 97.89571 156.933729 \nL 104.107212 153.347829 \nL 110.318715 149.761929 \nL 116.530218 146.17603 \nL 122.741721 142.59013 \nL 128.953224 139.00423 \nL 135.164726 135.41833 \nL 141.376229 131.83243 \nL 147.587732 128.246531 \nL 153.799235 124.660631 \nL 160.010737 121.074731 \nL 166.22224 117.488831 \nL 172.433743 113.902931 \nL 178.645246 110.317032 \nL 184.856749 106.731132 \nL 191.068251 103.145232 \nL 197.279754 99.559332 \nL 203.491257 95.973432 \nL 209.70276 92.387532 \nL 215.914263 88.801633 \nL 222.125765 85.215733 \nL 228.337268 81.629833 \nL 234.548771 78.043933 \nL 240.760274 74.458033 \nL 246.971776 70.872134 \nL 253.183279 67.286234 \nL 259.394782 63.700334 \nL 265.606285 60.114434 \nL 271.817788 56.528534 \nL 278.02929 52.942635 \nL 284.240793 49.356735 \nL 290.452296 45.770835 \nL 296.663799 42.184935 \nL 302.875301 38.599035 \nL 309.086804 35.013135 \nL 315.298307 31.427236 \nL 321.50981 27.841336 \nL 327.721313 24.255436 \nL 333.932815 20.669536 \nL 340.144318 17.083636 \n\" clip-path=\"url(#p096c26f334)\" style=\"fill: none; stroke: #ff0000; stroke-width: 1.5; stroke-linecap: square\"/>\n   </g>\n   <g id=\"patch_3\">\n    <path d=\"M 20.5625 224.64 \nL 20.5625 7.2 \n\" style=\"fill: none; stroke: #000000; stroke-width: 0.8; stroke-linejoin: miter; stroke-linecap: square\"/>\n   </g>\n   <g id=\"patch_4\">\n    <path d=\"M 355.3625 224.64 \nL 355.3625 7.2 \n\" style=\"fill: none; stroke: #000000; stroke-width: 0.8; stroke-linejoin: miter; stroke-linecap: square\"/>\n   </g>\n   <g id=\"patch_5\">\n    <path d=\"M 20.5625 224.64 \nL 355.3625 224.64 \n\" style=\"fill: none; stroke: #000000; stroke-width: 0.8; stroke-linejoin: miter; stroke-linecap: square\"/>\n   </g>\n   <g id=\"patch_6\">\n    <path d=\"M 20.5625 7.2 \nL 355.3625 7.2 \n\" style=\"fill: none; stroke: #000000; stroke-width: 0.8; stroke-linejoin: miter; stroke-linecap: square\"/>\n   </g>\n  </g>\n </g>\n <defs>\n  <clipPath id=\"p096c26f334\">\n   <rect x=\"20.5625\" y=\"7.2\" width=\"334.8\" height=\"217.44\"/>\n  </clipPath>\n </defs>\n</svg>\n",
      "image/png": "[encoded data removed]"
     },
     "metadata": {
      "needs_background": "light"
     }
    }
   ],
   "source": [
    "%matplotlib inline\n",
    "import matplotlib.pyplot as plt\n",
    "import numpy as np\n",
    "\n",
    "k = 1\n",
    "q = 0\n",
    "x = np.linspace(0, 2)\n",
    "plt.plot(x, k*x + q, linestyle='-', color='blue')\n",
    "\n",
    "k = 2\n",
    "q = 0.5\n",
    "x = np.linspace(0, 2)\n",
    "plt.plot(x, k*x + q, linestyle='-', color='red')\n",
    "\n",
    "for point in [(1,3), (1.5,1), (2,3)]:\n",
    "    plt.scatter(point[0], point[1], color='green')"
   ]
  },
  {
   "cell_type": "markdown",
   "metadata": {},
   "source": [
    "**Cvičení:** Zkuste si spočítat polohu zadaných bodů vůči těmto dvou přímkám zadaných ve směrnicovém tvaru:\n",
    "\n",
    "$$\n",
    "A = [1, 3], B = [1.5, 1], C = [2, 3]\n",
    "$$\n",
    "\n",
    "$$\n",
    "p: y = x \\\\\n",
    "q: y = 2x+0.5\n",
    "$$"
   ]
  },
  {
   "cell_type": "markdown",
   "metadata": {},
   "source": [
    "# Fičury, signály, příznaky...\n",
    "\n",
    "V příkladu výše jsou zakresleny 2 body o souřadnicích $(x, y)$. Tyto body v prostoru mohou reprezentovat libovolný reálný či abstraktní objekt světa o dvou signifikantních vlastnostech, které tento objekt co nejlépe popisují.\n",
    "\n",
    "V případě, že bychom chtěli klasifikovat zvířata do 3 tříd (pes, kráva, slon), může atribut $x$ být váhou a atribut $y$ výškou zvířete. Kdybychom chtěli určit, zda je člověk nemocný, tyto vlastnosti by byly například teplota a tlak.\n",
    "\n",
    "Těmto atributům budeme dále říkat signály, příznaky, či featury. V praxi nám však často pouze 2 příznaky nestačí. Máme komplexní systémy, ve kterých je aktuální stav popsán několika desítkami atributů (představte si například autonomní vozidlo, kde máme aktuální rychlost, natočení kol, vzdálenost od překážek a další). Zavedeme si proto pojem *feature vektor*, který bude složen z atributů $(x_0, x_1, ..., x_N)$. Samozřejmě, pokud se nám zvýší počet atributů vektoru, zvětší se nám i dimenze prostoru, ve kterém se tento vektor nachází. V případě tří atributů se nacházíme ve 3D prostoru a místo přímky budeme tento prostor dělit rovinou. V případě 4D prostoru hyperrovinou atd."
   ]
  },
  {
   "cell_type": "code",
   "execution_count": 12,
   "metadata": {},
   "outputs": [
    {
     "output_type": "stream",
     "name": "stdout",
     "text": [
      "0.0,0.0,1.0 -> 1.0\n0.0,1.0,1.0 -> 1.0\n0.3,0.0,1.0 -> 0.0\n0.0,0.2,1.0 -> 1.0\n1.0,0.0,1.0 -> 0.0\n1.0,1.0,1.0 -> 0.0\n"
     ]
    },
    {
     "output_type": "display_data",
     "data": {
      "text/plain": "<Figure size 432x288 with 1 Axes>",
      "image/svg+xml": "<?xml version=\"1.0\" encoding=\"utf-8\" standalone=\"no\"?>\n<!DOCTYPE svg PUBLIC \"-//W3C//DTD SVG 1.1//EN\"\n  \"http://www.w3.org/Graphics/SVG/1.1/DTD/svg11.dtd\">\n<svg xmlns:xlink=\"http://www.w3.org/1999/xlink\" width=\"372.103125pt\" height=\"248.518125pt\" viewBox=\"0 0 372.103125 248.518125\" xmlns=\"http://www.w3.org/2000/svg\" version=\"1.1\">\n <metadata>\n  <rdf:RDF xmlns:dc=\"http://purl.org/dc/elements/1.1/\" xmlns:cc=\"http://creativecommons.org/ns#\" xmlns:rdf=\"http://www.w3.org/1999/02/22-rdf-syntax-ns#\">\n   <cc:Work>\n    <dc:type rdf:resource=\"http://purl.org/dc/dcmitype/StillImage\"/>\n    <dc:date>2022-05-18T13:46:28.186228</dc:date>\n    <dc:format>image/svg+xml</dc:format>\n    <dc:creator>\n     <cc:Agent>\n      <dc:title>Matplotlib v3.5.2, https://matplotlib.org/</dc:title>\n     </cc:Agent>\n    </dc:creator>\n   </cc:Work>\n  </rdf:RDF>\n </metadata>\n <defs>\n  <style type=\"text/css\">*{stroke-linejoin: round; stroke-linecap: butt}</style>\n </defs>\n <g id=\"figure_1\">\n  <g id=\"patch_1\">\n   <path d=\"M 0 248.518125 \nL 372.103125 248.518125 \nL 372.103125 0 \nL 0 0 \nL 0 248.518125 \nz\n\" style=\"fill: none\"/>\n  </g>\n  <g id=\"axes_1\">\n   <g id=\"patch_2\">\n    <path d=\"M 30.103125 224.64 \nL 364.903125 224.64 \nL 364.903125 7.2 \nL 30.103125 7.2 \nz\n\" style=\"fill: #ffffff\"/>\n   </g>\n   <g id=\"PathCollection_1\">\n    <defs>\n     <path id=\"m4c541c4b12\" d=\"M 0 3 \nC 0.795609 3 1.55874 2.683901 2.12132 2.12132 \nC 2.683901 1.55874 3 0.795609 3 0 \nC 3 -0.795609 2.683901 -1.55874 2.12132 -2.12132 \nC 1.55874 -2.683901 0.795609 -3 0 -3 \nC -0.795609 -3 -1.55874 -2.683901 -2.12132 -2.12132 \nC -2.683901 -1.55874 -3 -0.795609 -3 0 \nC -3 0.795609 -2.683901 1.55874 -2.12132 2.12132 \nC -1.55874 2.683901 -0.795609 3 0 3 \nz\n\" style=\"stroke: #ff0000\"/>\n    </defs>\n    <g clip-path=\"url(#pdee9452476)\">\n     <use xlink:href=\"#m4c541c4b12\" x=\"45.321307\" y=\"214.756364\" style=\"fill: #ff0000; stroke: #ff0000\"/>\n    </g>\n   </g>\n   <g id=\"PathCollection_2\">\n    <g clip-path=\"url(#pdee9452476)\">\n     <use xlink:href=\"#m4c541c4b12\" x=\"45.321307\" y=\"17.083636\" style=\"fill: #ff0000; stroke: #ff0000\"/>\n    </g>\n   </g>\n   <g id=\"PathCollection_3\">\n    <defs>\n     <path id=\"mfb79ff7de6\" d=\"M 0 3 \nC 0.795609 3 1.55874 2.683901 2.12132 2.12132 \nC 2.683901 1.55874 3 0.795609 3 0 \nC 3 -0.795609 2.683901 -1.55874 2.12132 -2.12132 \nC 1.55874 -2.683901 0.795609 -3 0 -3 \nC -0.795609 -3 -1.55874 -2.683901 -2.12132 -2.12132 \nC -2.683901 -1.55874 -3 -0.795609 -3 0 \nC -3 0.795609 -2.683901 1.55874 -2.12132 2.12132 \nC -1.55874 2.683901 -0.795609 3 0 3 \nz\n\" style=\"stroke: #0000ff\"/>\n    </defs>\n    <g clip-path=\"url(#pdee9452476)\">\n     <use xlink:href=\"#mfb79ff7de6\" x=\"136.630398\" y=\"214.756364\" style=\"fill: #0000ff; stroke: #0000ff\"/>\n    </g>\n   </g>\n   <g id=\"PathCollection_4\">\n    <g clip-path=\"url(#pdee9452476)\">\n     <use xlink:href=\"#m4c541c4b12\" x=\"45.321307\" y=\"175.221818\" style=\"fill: #ff0000; stroke: #ff0000\"/>\n    </g>\n   </g>\n   <g id=\"PathCollection_5\">\n    <g clip-path=\"url(#pdee9452476)\">\n     <use xlink:href=\"#mfb79ff7de6\" x=\"349.684943\" y=\"214.756364\" style=\"fill: #0000ff; stroke: #0000ff\"/>\n    </g>\n   </g>\n   <g id=\"PathCollection_6\">\n    <g clip-path=\"url(#pdee9452476)\">\n     <use xlink:href=\"#mfb79ff7de6\" x=\"349.684943\" y=\"17.083636\" style=\"fill: #0000ff; stroke: #0000ff\"/>\n    </g>\n   </g>\n   <g id=\"matplotlib.axis_1\">\n    <g id=\"xtick_1\">\n     <g id=\"line2d_1\">\n      <defs>\n       <path id=\"mc50d0ef197\" d=\"M 0 0 \nL 0 3.5 \n\" style=\"stroke: #000000; stroke-width: 0.8\"/>\n      </defs>\n      <g>\n       <use xlink:href=\"#mc50d0ef197\" x=\"45.321307\" y=\"224.64\" style=\"stroke: #000000; stroke-width: 0.8\"/>\n      </g>\n     </g>\n     <g id=\"text_1\">\n      <!-- 0.0 -->\n      <g transform=\"translate(37.369744 239.238437)scale(0.1 -0.1)\">\n       <defs>\n        <path id=\"DejaVuSans-30\" d=\"M 2034 4250 \nQ 1547 4250 1301 3770 \nQ 1056 3291 1056 2328 \nQ 1056 1369 1301 889 \nQ 1547 409 2034 409 \nQ 2525 409 2770 889 \nQ 3016 1369 3016 2328 \nQ 3016 3291 2770 3770 \nQ 2525 4250 2034 4250 \nz\nM 2034 4750 \nQ 2819 4750 3233 4129 \nQ 3647 3509 3647 2328 \nQ 3647 1150 3233 529 \nQ 2819 -91 2034 -91 \nQ 1250 -91 836 529 \nQ 422 1150 422 2328 \nQ 422 3509 836 4129 \nQ 1250 4750 2034 4750 \nz\n\" transform=\"scale(0.015625)\"/>\n        <path id=\"DejaVuSans-2e\" d=\"M 684 794 \nL 1344 794 \nL 1344 0 \nL 684 0 \nL 684 794 \nz\n\" transform=\"scale(0.015625)\"/>\n       </defs>\n       <use xlink:href=\"#DejaVuSans-30\"/>\n       <use xlink:href=\"#DejaVuSans-2e\" x=\"63.623047\"/>\n       <use xlink:href=\"#DejaVuSans-30\" x=\"95.410156\"/>\n      </g>\n     </g>\n    </g>\n    <g id=\"xtick_2\">\n     <g id=\"line2d_2\">\n      <g>\n       <use xlink:href=\"#mc50d0ef197\" x=\"106.194034\" y=\"224.64\" style=\"stroke: #000000; stroke-width: 0.8\"/>\n      </g>\n     </g>\n     <g id=\"text_2\">\n      <!-- 0.2 -->\n      <g transform=\"translate(98.242472 239.238437)scale(0.1 -0.1)\">\n       <defs>\n        <path id=\"DejaVuSans-32\" d=\"M 1228 531 \nL 3431 531 \nL 3431 0 \nL 469 0 \nL 469 531 \nQ 828 903 1448 1529 \nQ 2069 2156 2228 2338 \nQ 2531 2678 2651 2914 \nQ 2772 3150 2772 3378 \nQ 2772 3750 2511 3984 \nQ 2250 4219 1831 4219 \nQ 1534 4219 1204 4116 \nQ 875 4013 500 3803 \nL 500 4441 \nQ 881 4594 1212 4672 \nQ 1544 4750 1819 4750 \nQ 2544 4750 2975 4387 \nQ 3406 4025 3406 3419 \nQ 3406 3131 3298 2873 \nQ 3191 2616 2906 2266 \nQ 2828 2175 2409 1742 \nQ 1991 1309 1228 531 \nz\n\" transform=\"scale(0.015625)\"/>\n       </defs>\n       <use xlink:href=\"#DejaVuSans-30\"/>\n       <use xlink:href=\"#DejaVuSans-2e\" x=\"63.623047\"/>\n       <use xlink:href=\"#DejaVuSans-32\" x=\"95.410156\"/>\n      </g>\n     </g>\n    </g>\n    <g id=\"xtick_3\">\n     <g id=\"line2d_3\">\n      <g>\n       <use xlink:href=\"#mc50d0ef197\" x=\"167.066761\" y=\"224.64\" style=\"stroke: #000000; stroke-width: 0.8\"/>\n      </g>\n     </g>\n     <g id=\"text_3\">\n      <!-- 0.4 -->\n      <g transform=\"translate(159.115199 239.238437)scale(0.1 -0.1)\">\n       <defs>\n        <path id=\"DejaVuSans-34\" d=\"M 2419 4116 \nL 825 1625 \nL 2419 1625 \nL 2419 4116 \nz\nM 2253 4666 \nL 3047 4666 \nL 3047 1625 \nL 3713 1625 \nL 3713 1100 \nL 3047 1100 \nL 3047 0 \nL 2419 0 \nL 2419 1100 \nL 313 1100 \nL 313 1709 \nL 2253 4666 \nz\n\" transform=\"scale(0.015625)\"/>\n       </defs>\n       <use xlink:href=\"#DejaVuSans-30\"/>\n       <use xlink:href=\"#DejaVuSans-2e\" x=\"63.623047\"/>\n       <use xlink:href=\"#DejaVuSans-34\" x=\"95.410156\"/>\n      </g>\n     </g>\n    </g>\n    <g id=\"xtick_4\">\n     <g id=\"line2d_4\">\n      <g>\n       <use xlink:href=\"#mc50d0ef197\" x=\"227.939489\" y=\"224.64\" style=\"stroke: #000000; stroke-width: 0.8\"/>\n      </g>\n     </g>\n     <g id=\"text_4\">\n      <!-- 0.6 -->\n      <g transform=\"translate(219.987926 239.238437)scale(0.1 -0.1)\">\n       <defs>\n        <path id=\"DejaVuSans-36\" d=\"M 2113 2584 \nQ 1688 2584 1439 2293 \nQ 1191 2003 1191 1497 \nQ 1191 994 1439 701 \nQ 1688 409 2113 409 \nQ 2538 409 2786 701 \nQ 3034 994 3034 1497 \nQ 3034 2003 2786 2293 \nQ 2538 2584 2113 2584 \nz\nM 3366 4563 \nL 3366 3988 \nQ 3128 4100 2886 4159 \nQ 2644 4219 2406 4219 \nQ 1781 4219 1451 3797 \nQ 1122 3375 1075 2522 \nQ 1259 2794 1537 2939 \nQ 1816 3084 2150 3084 \nQ 2853 3084 3261 2657 \nQ 3669 2231 3669 1497 \nQ 3669 778 3244 343 \nQ 2819 -91 2113 -91 \nQ 1303 -91 875 529 \nQ 447 1150 447 2328 \nQ 447 3434 972 4092 \nQ 1497 4750 2381 4750 \nQ 2619 4750 2861 4703 \nQ 3103 4656 3366 4563 \nz\n\" transform=\"scale(0.015625)\"/>\n       </defs>\n       <use xlink:href=\"#DejaVuSans-30\"/>\n       <use xlink:href=\"#DejaVuSans-2e\" x=\"63.623047\"/>\n       <use xlink:href=\"#DejaVuSans-36\" x=\"95.410156\"/>\n      </g>\n     </g>\n    </g>\n    <g id=\"xtick_5\">\n     <g id=\"line2d_5\">\n      <g>\n       <use xlink:href=\"#mc50d0ef197\" x=\"288.812216\" y=\"224.64\" style=\"stroke: #000000; stroke-width: 0.8\"/>\n      </g>\n     </g>\n     <g id=\"text_5\">\n      <!-- 0.8 -->\n      <g transform=\"translate(280.860653 239.238437)scale(0.1 -0.1)\">\n       <defs>\n        <path id=\"DejaVuSans-38\" d=\"M 2034 2216 \nQ 1584 2216 1326 1975 \nQ 1069 1734 1069 1313 \nQ 1069 891 1326 650 \nQ 1584 409 2034 409 \nQ 2484 409 2743 651 \nQ 3003 894 3003 1313 \nQ 3003 1734 2745 1975 \nQ 2488 2216 2034 2216 \nz\nM 1403 2484 \nQ 997 2584 770 2862 \nQ 544 3141 544 3541 \nQ 544 4100 942 4425 \nQ 1341 4750 2034 4750 \nQ 2731 4750 3128 4425 \nQ 3525 4100 3525 3541 \nQ 3525 3141 3298 2862 \nQ 3072 2584 2669 2484 \nQ 3125 2378 3379 2068 \nQ 3634 1759 3634 1313 \nQ 3634 634 3220 271 \nQ 2806 -91 2034 -91 \nQ 1263 -91 848 271 \nQ 434 634 434 1313 \nQ 434 1759 690 2068 \nQ 947 2378 1403 2484 \nz\nM 1172 3481 \nQ 1172 3119 1398 2916 \nQ 1625 2713 2034 2713 \nQ 2441 2713 2670 2916 \nQ 2900 3119 2900 3481 \nQ 2900 3844 2670 4047 \nQ 2441 4250 2034 4250 \nQ 1625 4250 1398 4047 \nQ 1172 3844 1172 3481 \nz\n\" transform=\"scale(0.015625)\"/>\n       </defs>\n       <use xlink:href=\"#DejaVuSans-30\"/>\n       <use xlink:href=\"#DejaVuSans-2e\" x=\"63.623047\"/>\n       <use xlink:href=\"#DejaVuSans-38\" x=\"95.410156\"/>\n      </g>\n     </g>\n    </g>\n    <g id=\"xtick_6\">\n     <g id=\"line2d_6\">\n      <g>\n       <use xlink:href=\"#mc50d0ef197\" x=\"349.684943\" y=\"224.64\" style=\"stroke: #000000; stroke-width: 0.8\"/>\n      </g>\n     </g>\n     <g id=\"text_6\">\n      <!-- 1.0 -->\n      <g transform=\"translate(341.733381 239.238437)scale(0.1 -0.1)\">\n       <defs>\n        <path id=\"DejaVuSans-31\" d=\"M 794 531 \nL 1825 531 \nL 1825 4091 \nL 703 3866 \nL 703 4441 \nL 1819 4666 \nL 2450 4666 \nL 2450 531 \nL 3481 531 \nL 3481 0 \nL 794 0 \nL 794 531 \nz\n\" transform=\"scale(0.015625)\"/>\n       </defs>\n       <use xlink:href=\"#DejaVuSans-31\"/>\n       <use xlink:href=\"#DejaVuSans-2e\" x=\"63.623047\"/>\n       <use xlink:href=\"#DejaVuSans-30\" x=\"95.410156\"/>\n      </g>\n     </g>\n    </g>\n   </g>\n   <g id=\"matplotlib.axis_2\">\n    <g id=\"ytick_1\">\n     <g id=\"line2d_7\">\n      <defs>\n       <path id=\"mef3a7ed304\" d=\"M 0 0 \nL -3.5 0 \n\" style=\"stroke: #000000; stroke-width: 0.8\"/>\n      </defs>\n      <g>\n       <use xlink:href=\"#mef3a7ed304\" x=\"30.103125\" y=\"214.756364\" style=\"stroke: #000000; stroke-width: 0.8\"/>\n      </g>\n     </g>\n     <g id=\"text_7\">\n      <!-- 0.0 -->\n      <g transform=\"translate(7.2 218.555582)scale(0.1 -0.1)\">\n       <use xlink:href=\"#DejaVuSans-30\"/>\n       <use xlink:href=\"#DejaVuSans-2e\" x=\"63.623047\"/>\n       <use xlink:href=\"#DejaVuSans-30\" x=\"95.410156\"/>\n      </g>\n     </g>\n    </g>\n    <g id=\"ytick_2\">\n     <g id=\"line2d_8\">\n      <g>\n       <use xlink:href=\"#mef3a7ed304\" x=\"30.103125\" y=\"175.221818\" style=\"stroke: #000000; stroke-width: 0.8\"/>\n      </g>\n     </g>\n     <g id=\"text_8\">\n      <!-- 0.2 -->\n      <g transform=\"translate(7.2 179.021037)scale(0.1 -0.1)\">\n       <use xlink:href=\"#DejaVuSans-30\"/>\n       <use xlink:href=\"#DejaVuSans-2e\" x=\"63.623047\"/>\n       <use xlink:href=\"#DejaVuSans-32\" x=\"95.410156\"/>\n      </g>\n     </g>\n    </g>\n    <g id=\"ytick_3\">\n     <g id=\"line2d_9\">\n      <g>\n       <use xlink:href=\"#mef3a7ed304\" x=\"30.103125\" y=\"135.687273\" style=\"stroke: #000000; stroke-width: 0.8\"/>\n      </g>\n     </g>\n     <g id=\"text_9\">\n      <!-- 0.4 -->\n      <g transform=\"translate(7.2 139.486491)scale(0.1 -0.1)\">\n       <use xlink:href=\"#DejaVuSans-30\"/>\n       <use xlink:href=\"#DejaVuSans-2e\" x=\"63.623047\"/>\n       <use xlink:href=\"#DejaVuSans-34\" x=\"95.410156\"/>\n      </g>\n     </g>\n    </g>\n    <g id=\"ytick_4\">\n     <g id=\"line2d_10\">\n      <g>\n       <use xlink:href=\"#mef3a7ed304\" x=\"30.103125\" y=\"96.152727\" style=\"stroke: #000000; stroke-width: 0.8\"/>\n      </g>\n     </g>\n     <g id=\"text_10\">\n      <!-- 0.6 -->\n      <g transform=\"translate(7.2 99.951946)scale(0.1 -0.1)\">\n       <use xlink:href=\"#DejaVuSans-30\"/>\n       <use xlink:href=\"#DejaVuSans-2e\" x=\"63.623047\"/>\n       <use xlink:href=\"#DejaVuSans-36\" x=\"95.410156\"/>\n      </g>\n     </g>\n    </g>\n    <g id=\"ytick_5\">\n     <g id=\"line2d_11\">\n      <g>\n       <use xlink:href=\"#mef3a7ed304\" x=\"30.103125\" y=\"56.618182\" style=\"stroke: #000000; stroke-width: 0.8\"/>\n      </g>\n     </g>\n     <g id=\"text_11\">\n      <!-- 0.8 -->\n      <g transform=\"translate(7.2 60.417401)scale(0.1 -0.1)\">\n       <use xlink:href=\"#DejaVuSans-30\"/>\n       <use xlink:href=\"#DejaVuSans-2e\" x=\"63.623047\"/>\n       <use xlink:href=\"#DejaVuSans-38\" x=\"95.410156\"/>\n      </g>\n     </g>\n    </g>\n    <g id=\"ytick_6\">\n     <g id=\"line2d_12\">\n      <g>\n       <use xlink:href=\"#mef3a7ed304\" x=\"30.103125\" y=\"17.083636\" style=\"stroke: #000000; stroke-width: 0.8\"/>\n      </g>\n     </g>\n     <g id=\"text_12\">\n      <!-- 1.0 -->\n      <g transform=\"translate(7.2 20.882855)scale(0.1 -0.1)\">\n       <use xlink:href=\"#DejaVuSans-31\"/>\n       <use xlink:href=\"#DejaVuSans-2e\" x=\"63.623047\"/>\n       <use xlink:href=\"#DejaVuSans-30\" x=\"95.410156\"/>\n      </g>\n     </g>\n    </g>\n   </g>\n   <g id=\"patch_3\">\n    <path d=\"M 30.103125 224.64 \nL 30.103125 7.2 \n\" style=\"fill: none; stroke: #000000; stroke-width: 0.8; stroke-linejoin: miter; stroke-linecap: square\"/>\n   </g>\n   <g id=\"patch_4\">\n    <path d=\"M 364.903125 224.64 \nL 364.903125 7.2 \n\" style=\"fill: none; stroke: #000000; stroke-width: 0.8; stroke-linejoin: miter; stroke-linecap: square\"/>\n   </g>\n   <g id=\"patch_5\">\n    <path d=\"M 30.103125 224.64 \nL 364.903125 224.64 \n\" style=\"fill: none; stroke: #000000; stroke-width: 0.8; stroke-linejoin: miter; stroke-linecap: square\"/>\n   </g>\n   <g id=\"patch_6\">\n    <path d=\"M 30.103125 7.2 \nL 364.903125 7.2 \n\" style=\"fill: none; stroke: #000000; stroke-width: 0.8; stroke-linejoin: miter; stroke-linecap: square\"/>\n   </g>\n  </g>\n </g>\n <defs>\n  <clipPath id=\"pdee9452476\">\n   <rect x=\"30.103125\" y=\"7.2\" width=\"334.8\" height=\"217.44\"/>\n  </clipPath>\n </defs>\n</svg>\n",
      "image/png": "[encoded data removed]"
     },
     "metadata": {
      "needs_background": "light"
     }
    }
   ],
   "source": [
    "import random\n",
    "\n",
    "dataset = \"drugs.csv\"\n",
    "dataset = \"xor.csv\"\n",
    "#dataset = \"and.csv\"\n",
    "\n",
    "samples = []\n",
    "with open(\"./01/datasets/{0}\".format(dataset), \"r\") as dataset_f:\n",
    "    content = dataset_f.read()\n",
    "    for row in content.split(\"\\n\"):\n",
    "        columns = list(map(float, row.split(\",\")))\n",
    "        samples.append((np.array(columns[:-1]), columns[-1]))\n",
    "        print(\",\".join(map(str,np.array(columns[:-1])))+\" -> \"+str(columns[-1]))\n",
    "\n",
    "for sample in samples:\n",
    "    plt.scatter(sample[0][0], sample[0][1], color='blue' if sample[1] == 0 else 'red')"
   ]
  },
  {
   "cell_type": "markdown",
   "metadata": {},
   "source": [
    "## Neuron\n",
    "\n",
    "Matematický model neuronu je inspirován biologickým neuronem, který je základní jednotkou nervové soustavy a jehož specifická funkce je přenos a tvorba signálů. V lidském těle je takových buněk kolem 30 miliard. Na obrázku níže vidíme zjednodušený model neuronu. Pomocí dendridů vstupuje do neuronu signál, který se po cestě buď zesílí nebo zeslabí. Ten se šíří do buňky, kde vzniká potenciál. Dostatečná velikost potenciálu neuron aktivuje a ten vyšle impuls skrze axon až k synpsím, které jsou propojeny s dendridy dalších neuronů.\n",
    "\n",
    "![Biologický neuron](01/neuron.png)\n",
    "\n",
    "Na základě toho si můžeme popsat matematický model neuronu\n",
    "\n",
    "![Matematický neuron](01/neuron2.png)\n",
    "\n",
    "Neuron si můžeme definovat jako strukturu či objekt, který je popsán váhami a aktivační funkcí. Do neuronu přichází vektor, pod kterým si zatím můžeme představit právě *feature vektor* definovaný výše. Kolik máme prvků vektoru, tolik máme vah, které konkrétní signál buď zesílí nebo utlumí (udělá součin dané váhy a signálu). Neuron pak nedělá nic jiného, než že provede součet těchto součinů a ten pošle do aktivační funkce.\n",
    "Aktivační funkce může být libovolná logistická funkce, která nám data transformuje do intervalu $(0,1)$. V příkladu níže si vystačíme s funkcí $signum$, která je definována jako:\n",
    "\n",
    "$$\n",
    "f(x): x > 0 \\rightarrow 1 \\\\\n",
    "f(x): x <= 0 \\rightarrow 0\n",
    "$$\n",
    "\n",
    "### Dopředný chod neuronu\n",
    "\n",
    "Předpokládejme, že neuron už máme naučený a tudíž do něj pošleme vstupní vektor. Každý prvek vektoru pronásobíme patřičnou váhou a všechny hodnoty sečteme. Získáme jednu hodnotu, kterou pošleme do aktivační funkce - v našem případě signum - a tím dostaneme výstup neuronu.\n",
    "\n",
    "$$\n",
    "y' = \\sum_{i=0}^{I}x_iw_i-\\theta \\\\\n",
    "y = sgn(y')\n",
    "$$\n",
    "\n",
    "Kde se tam vzala $\\theta$? Jedná se o tzv. bias a jeho význam si zkusíme vysvětlit na přímkách. Všimněte si podobnosti mezi obecnou rovnicí přímky a vzorcem pro výpočet výstupu neuronu. \n",
    "\n",
    "Rozepišme si rovnici pro aktivaci neuronu o dvou vstupech bez $\\theta$:\n",
    "$$\n",
    "y = w_0x_0 + w_1x_1\n",
    "$$\n",
    "\n",
    "A teď si zkusme přiblížit obecnou rovnici přímky právě té výše přejmenováním jednotlivých proměnných:\n",
    "\n",
    "$$\n",
    "0 = ax + by + c \\\\\n",
    "0 = ax_0 + bx_1 + c \\\\\n",
    "0 = w_0x_0 + w_1x_1 + w_2\n",
    "$$\n",
    "\n",
    "Pokud úplnou rovnici výše zkusíme přepsat do směrnicového tvaru, dostaneme:\n",
    "\n",
    "$$\n",
    "w_1x_1 = -w_0x_0-w_2 \\\\\n",
    "x_1 = -\\frac{w_0}{w_1}x_0-\\frac{w_2}{w_1}\n",
    "$$\n",
    "\n",
    "Co by se stalo, kdyby nám v této rovnici chyběl právě bias $\\theta (w_2)$? V tom případě by byl celý zlomek $\\frac{w_2}{x_1}$ nulový a v řeči směrnicového tvaru přímky bychom přišli o \"posunutí na ose y\". Občas by nám tento nedostatek nemusel vadit, ale většinou ano. Neuron by se mohl učit zbytečně dlouho nebo nedostatečně.\n",
    "\n",
    "V praxi často postupujeme tak, že pokud máme vstupní vektor o dimenzi 2, do neuronu však pošleme 3 hodnoty, kde třetí z nich \"napevno\" nastavíme na -1 a neuron tudíž jako takový udržuje vnitřně 3 váhy. K té třetí váze se pak chová naprosto shodně jako k těm prvním dvěma. Zobecnili jsme tím pádem práh do podoby další váhy. Za tohoto předpokladu se nám zobecní i vzorec pro aktivaci neuronu:\n",
    "\n",
    "$$\n",
    "y = sgn(\\sum_{i=0}^{I}x_iw_i) \\\\\n",
    "$$\n",
    "\n",
    "### Učení neuronu\n",
    "\n",
    "Jak neuron ví, že má na právě zadaný vstup vrátit 1 a na jiný 0? To se naučí v procesu učení. Jistě vás už napadlo, že jediná možnost, jak neuron něco naučit, je měnit mu váhy. Při tom, jak jsme si neuron definovali jsou váhy taky jediné proměnné, které můžeme měnit. Neuron se učí v iteracích. Při každé iteraci pustíme dopředný chod neuronu, a zjistíme, co nám vrátil - získáme hodnotu $y$. Tento výsledek pak porovnáme s žádanou hodnotou $z$ a podle pravidel pozměníme hodnoty vah.\n",
    "\n",
    "Mohou tudíž nastat 3 stavy:\n",
    "- $y = z$\n",
    "- $y = 1, z = 0$\n",
    "- $y = 0, z = 1$\n",
    "\n",
    "Váhu pak měníme podle vzorce:\n",
    "\n",
    "$$\n",
    "w_i(t+1) = w_i(t) + \\eta(z-y(t))x_i\n",
    "$$\n",
    "\n",
    "Koeficient učení $\\eta$ nám zjemňuje skoky při aktualizaci vah. Pokud koeficient nastavíme větší, neuron/síť se bude rychleji učit, ale je taky možné, že nám nebude správně konvergovat. Při nižším koeficientu zase musíme počítat s tím, že se neuron/síť bude určit trochu dýl."
   ]
  },
  {
   "source": [
    "from ipywidgets import widgets\n",
    "from IPython.display import clear_output\n",
    "import random\n",
    "\n",
    "def sgn(value):\n",
    "    return 1 if value > 0 else 0\n",
    "\n",
    "class Neuron:\n",
    "\n",
    "    def __init__(self, vstupy, eta):\n",
    "        self.w = [0] * (vstupy+1)\n",
    "        for i in range(vstupy):\n",
    "            self.w[i] =random.random()\n",
    "        self.w[vstupy] = -1\n",
    "        self.eta = eta\n",
    "        pass\n",
    "\n",
    "    def vratZeroPoint(self, x):\n",
    "        return -((self.w[0]*x)/self.w[1])-(self.w[2]/self.w[1])\n",
    "\n",
    "    def activate(self, vstupy):\n",
    "        y = self.w[0]*vstupy[0]+self.w[1]*vstupy[1]+self.w[2]\n",
    "        return sgn(y)\n",
    "\n",
    "\n",
    "    def train(self, vstupy, ocekavany_vystup):\n",
    "        # 1.) během trénování si musíme zjistit hodnotu, kterou získáme po aktivaci neuronu\n",
    "        y = self.activate(vstupy)\n",
    "        # 2.) získanou reálnou hodnotu musíme porovnat s chtěnou hodnotou a na základě jejich rozdílu upravit váhy\n",
    "        #print(vstupy,ocekavany_vystup,y,self.w)\n",
    "        for i in range(len(self.w)):\n",
    "            self.w[i] = self.w[i] + self.eta * (ocekavany_vystup - y) * vstupy[i]\n",
    "\n",
    "\n",
    "def learn_step(b):\n",
    "    clear_output()\n",
    "    display(button)\n",
    "    \n",
    "    for iterace in range(0,10):\n",
    "        for sample in samples:\n",
    "            n2.train(sample[0],sample[1])\n",
    "            n.train(sample[0],sample[1])\n",
    "        #print(n.w)\n",
    "    \n",
    "    for sample in samples:\n",
    "        #n.train(sample[0],sample[1])\n",
    "        plt.scatter(sample[0][0], sample[0][1], color='blue' if sample[1] == 0 else 'red')\n",
    "\n",
    "    x = np.linspace(0, 1)\n",
    "    plt.ylim([-0.5,1.5])\n",
    "    plt.plot(x, n.vratZeroPoint(x), linestyle='-', color='red')\n",
    "    x = np.linspace(0, 1)\n",
    "    plt.plot(x, n2.vratZeroPoint(x), linestyle='-', color='purple')\n",
    "\n",
    "    \n",
    "n = Neuron(2, 1)\n",
    "n2 = Neuron(2, 0.4)\n",
    "button = widgets.Button(description=\"Learn more\")\n",
    "button.on_click(learn_step)\n",
    "\n",
    "display(button)"
   ],
   "cell_type": "code",
   "metadata": {},
   "execution_count": 14,
   "outputs": [
    {
     "output_type": "display_data",
     "data": {
      "text/plain": "Button(description='Learn more', style=ButtonStyle())",
      "application/vnd.jupyter.widget-view+json": {
       "version_major": 2,
       "version_minor": 0,
       "model_id": "0bb71e20d2714f5b8447a2a553c2ac51"
      }
     },
     "metadata": {}
    }
   ]
  },
  {
   "cell_type": "code",
   "execution_count": null,
   "metadata": {},
   "outputs": [],
   "source": []
  }
 ],
 "metadata": {
  "kernelspec": {
   "name": "python3",
   "display_name": "Python 3.9.5 64-bit",
   "metadata": {
    "interpreter": {
     "hash": "b8bdd4e700647ba2b08c59e5df8b7da1dcf50a218bcd4c1bcd9b3dc92e8788e5"
    }
   }
  },
  "language_info": {
   "codemirror_mode": {
    "name": "ipython",
    "version": 3
   },
   "file_extension": ".py",
   "mimetype": "text/x-python",
   "name": "python",
   "nbconvert_exporter": "python",
   "pygments_lexer": "ipython3",
   "version": "3.9.5-final"
  }
 },
 "nbformat": 4,
 "nbformat_minor": 4
}