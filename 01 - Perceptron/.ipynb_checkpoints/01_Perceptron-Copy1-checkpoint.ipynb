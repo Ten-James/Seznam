{
 "cells": [
  {
   "cell_type": "markdown",
   "metadata": {},
   "source": [
    "# Neuronové sítě a perceptron\n",
    "\n",
    "## Co je to umělá inteligence?\n",
    "Když se řekne **umělá inteligence**, ne vždy se musí jednat o neuronovou síť. Z našeho pohledu je umělá inteligence chytrý algoritmus, který nám pomáhá řešit konkrétní úlohu bez toho, aniž bychom museli složitě nastavovat podmínky a tím říkat, jak se má tento algoritmus chovat.\n"
   ]
  },
  {
   "cell_type": "markdown",
   "metadata": {},
   "source": [
    "## Kde se s ní setkáme?\n",
    "- Počítačové hry\n",
    "- Autonomní vozidla\n",
    "- Lékařství, průmysl\n",
    "- Sociální sítě, vyhledávání na internetu\n",
    "- Spousta dalších míst...\n",
    "\n",
    "## K čemu neuronové sítě používáme?\n",
    "\n",
    "- Klasifikátory\n",
    "  - Řešením úlohy je klasifikace problému do jedné z N tříd (\"pes\", \"kočka\", \"kráva\")?\n",
    "- Detektory\n",
    "  - Svým způsobem se jedná o klasifikátor, který úlohu dělí pouze do 2 tříd. Detektor nám pouze říká \"ano\" nebo \"ne\"\n",
    "- Regrese\n",
    "  - Na základě známých veličin umíme odhadnout hodnotu nějaké neznámé veličiny"
   ]
  },
  {
   "cell_type": "markdown",
   "metadata": {},
   "source": [
    "# Přímky\n",
    "Ačkoli se to nezdá, přímky nám pomohou pochopit základy neuronových sítí. Určitě víte, že se dá přímka zapsat různými způsoby. Nejčastěji se setkáme s parametrickým, směrnicovým či obecným tvarem přímky. Jednotlivé tvary se mezi sebou dají převádět a každý z nich je většinou vhodný pro jiný typ využití.\n",
    "\n",
    "\n",
    "## Směrnicový tvar přímky\n",
    "$\n",
    "y = kx + q\n",
    "$\n",
    "- většinou známe směrnici `k` a posunutí na ose y `q`\n",
    "- typická úloha u přímky v tomto tvaru je zjistit, zda nějaký bod na této přímce leží, případně dopočítat za pomocí jedné souřadnice bodu druhou\n",
    "- pokud chceme přímku v tomto tvaru vykreslit, iterujeme hodnotu `x` (pomiňme nyní problémy s jemností vykreslení dopočítavané osy. Jenom si řekněme, že pro vykreslování přímky se lépe hodí parametrický tvar přímky)\n",
    "\n",
    "## Obecný tvar přímky\n",
    "$\n",
    "0 = ax + by + c\n",
    "$\n",
    "- typická úlohy u přímky v tomto tvaru jsou zjištění průsečíků či ověření, zda bod na přímce leží\n",
    "- můžeme využít nerovnosti a zjistit, na které polorovině se hledaný bod nachází\n",
    "\n",
    "Obecný tvar přímky můžeme jednoduše přepsat na směrnicový tvar:\n",
    "\n",
    "\\begin{align}\n",
    "0 & = ax + by + c \\\\\n",
    "by & = -ax - c \\\\\n",
    "y & = -\\frac{a}{b}x - \\frac{c}{b} \\\\\n",
    "k & = -\\frac{a}{b} \\\\\n",
    "q & = -\\frac{c}{b} \\\\\n",
    "y & = kx + q\n",
    "\\end{align}"
   ]
  },
  {
   "cell_type": "code",
   "execution_count": 2,
   "metadata": {},
   "outputs": [
    {
     "data": {
      "image/png": "[encoded data removed]",
      "text/plain": [
       "<Figure size 432x288 with 1 Axes>"
      ]
     },
     "metadata": {
      "needs_background": "light"
     },
     "output_type": "display_data"
    }
   ],
   "source": [
    "%matplotlib inline\n",
    "import matplotlib.pyplot as plt\n",
    "import numpy as np\n",
    "\n",
    "k = 1\n",
    "q = 0\n",
    "x = np.linspace(0, 2)\n",
    "plt.plot(x, k*x + q, linestyle='-', color='blue')\n",
    "\n",
    "k = 2\n",
    "q = 0.5\n",
    "x = np.linspace(0, 2)\n",
    "plt.plot(x, k*x + q, linestyle='-', color='red')\n",
    "\n",
    "for point in [(1,3), (1.5,1), (2,3)]:\n",
    "    plt.scatter(point[0], point[1], color='green')"
   ]
  },
  {
   "cell_type": "markdown",
   "metadata": {},
   "source": [
    "**Cvičení:** Zkuste si spočítat polohu zadaných bodů vůči těmto dvou přímkám zadaných ve směrnicovém tvaru:\n",
    "\n",
    "$$\n",
    "A = [1, 3], B = [1.5, 1], C = [2, 3]\n",
    "$$\n",
    "\n",
    "$$\n",
    "y = x \\\\\n",
    "y = 2x+0.5\n",
    "$$"
   ]
  },
  {
   "cell_type": "markdown",
   "metadata": {},
   "source": [
    "# Fičury, signály, příznaky...\n",
    "\n",
    "V příkladu výše jsou zakresleny 2 body o souřadnicích $(x, y)$. Tyto body v prostoru mohou reprezentovat libovolný reálný či abstraktní objekt světa o dvou signifikantních vlastnostech, které tento objekt co nejlépe popisují.\n",
    "\n",
    "V případě, že bychom chtěli klasifikovat zvířata do 3 tříd (pes, kráva, slon), může atribut $x$ být váhou a atribut $y$ výškou zvířete. Kdybychom chtěli určit, zda je člověk nemocný, tyto vlastnosti by byly například teplota a tlak.\n",
    "\n",
    "Těmto atributům budeme dále říkat signály, příznaky, či featury. V praxi nám však často pouze 2 příznaky nestačí. Máme komplexní systémy, ve kterých je aktuální stav popsán několika desítkami atributů (představte si například autonomní vozidlo, kde máme aktuální rychlost, natočení kol, vzdálenost od překážek a další). Zavedeme si proto pojem *feature vektor*, který bude složen z atributů $(x_0, x_1, ..., x_N)$. Samozřejmě, pokud se nám zvýší počet atributů vektoru, zvětší se nám i dimenze prostoru, ve kterém se tento vektor nachází. V případě tří atributů se nacházíme ve 3D prostoru a místo přímky budeme tento prostor dělit rovinou. V případě 4D prostoru hyperrovinou atd."
   ]
  },
  {
   "cell_type": "code",
   "execution_count": 3,
   "metadata": {},
   "outputs": [
    {
     "name": "stdout",
     "output_type": "stream",
     "text": [
      "0.6,0.0675,1.0 -> 1.0\n",
      "0.03,0.1632,1.0 -> 0.0\n",
      "0.65,0.0483,1.0 -> 1.0\n",
      "0.56,0.0525,1.0 -> 1.0\n",
      "0.19,0.144,1.0 -> 0.0\n",
      "0.26,0.3,1.0 -> 0.0\n"
     ]
    },
    {
     "data": {
      "image/png": "[encoded data removed]",
      "text/plain": [
       "<Figure size 432x288 with 1 Axes>"
      ]
     },
     "metadata": {
      "needs_background": "light"
     },
     "output_type": "display_data"
    }
   ],
   "source": [
    "import random\n",
    "\n",
    "dataset = \"drugs.csv\"\n",
    "#dataset = \"or.csv\"\n",
    "#dataset = \"and.csv\"\n",
    "\n",
    "samples = []\n",
    "with open(\"./01/datasets/{0}\".format(dataset), \"r\") as dataset_f:\n",
    "    content = dataset_f.read()\n",
    "    for row in content.split(\"\\n\"):\n",
    "        columns = list(map(float, row.split(\",\")))\n",
    "        samples.append((np.array(columns[:-1]), columns[-1]))\n",
    "        print(\",\".join(map(str,np.array(columns[:-1])))+\" -> \"+str(columns[-1]))\n",
    "\n",
    "for sample in samples:\n",
    "    plt.scatter(sample[0][0], sample[0][1], color='blue' if sample[1] == 0 else 'red')"
   ]
  },
  {
   "cell_type": "markdown",
   "metadata": {},
   "source": [
    "## Neuron\n",
    "\n",
    "Matematický model neuronu je inspirován biologickým neuronem, který je základní jednotkou nervové soustavy a jehož specifická funkce je přenos a tvorba signálů. V lidském těle je takových buněk kolem 30 miliard. Na obrázku níže vidíme zjednodušený model neuronu. Pomocí dendridů vstupuje do neuronu signál, který se po cestě buď zesílí nebo zeslabí. Ten se šíří do buňky, kde vzniká potenciál. Dostatečná velikost potenciálu neuron aktivuje a ten vyšle impuls skrze axon až k synpsím, které jsou propojeny s dendridy dalších neuronů.\n",
    "\n",
    "![Biologický neuron](01/neuron.png)\n",
    "\n",
    "Na základě toho si můžeme popsat matematický model neuronu\n",
    "\n",
    "![Matematický neuron](01/neuron2.png)\n",
    "\n",
    "Neuron si můžeme definovat jako strukturu či objekt, který je popsán váhami a aktivační funkcí. Do neuronu přichází vektor, pod kterým si zatím můžeme představit právě *feature vektor* definovaný výše. Kolik máme prvků vektoru, tolik máme vah, které konkrétní signál buď zesílí nebo utlumí (udělá součin dané váhy a signálu). Neuron pak nedělá nic jiného, než že provede součet těchto součinů a ten pošle do aktivační funkce.\n",
    "Aktivační funkce může být libovolná logistická funkce, která nám data transformuje do intervalu $(0,1)$. V příkladu níže si vystačíme s funkcí $signum$, která je definována jako:\n",
    "\n",
    "$$\n",
    "f(x): x > 0 \\rightarrow 1 \\\\\n",
    "f(x): x <= 0 \\rightarrow 0\n",
    "$$\n",
    "\n",
    "### Dopředný chod neuronu\n",
    "\n",
    "Předpokládejme, že neuron už máme naučený a tudíž do něj pošleme vstupní vektor. Každý prvek vektoru pronásobíme patřičnou váhou a všechny hodnoty sečteme. Získáme jednu hodnotu, kterou pošleme do aktivační funkce - v našem případě signum - a tím dostaneme výstup neuronu.\n",
    "\n",
    "$$\n",
    "y' = \\sum_{i=0}^{I}x_iw_i-\\theta \\\\\n",
    "y = sgn(y')\n",
    "$$\n",
    "\n",
    "Kde se tam vzala $\\theta$? Jedná se o tzv. bias a jeho význam si zkusíme vysvětlit na přímkách. Všimněte si podobnosti mezi obecnou rovnicí přímky a vzorcem pro výpočet výstupu neuronu. \n",
    "\n",
    "Rozepišme si rovnici pro aktivaci neuronu o dvou vstupech bez $\\theta$:\n",
    "$$\n",
    "y = w_0x_0 + w_1x_1\n",
    "$$\n",
    "\n",
    "A teď si zkusme přiblížit obecnou rovnici přímky právě té výše přejmenováním jednotlivých proměnných:\n",
    "\n",
    "$$\n",
    "0 = ax + by + c \\\\\n",
    "0 = ax_0 + bx_1 + c \\\\\n",
    "0 = w_0x_0 + w_1x_1 + w_2\n",
    "$$\n",
    "\n",
    "Pokud úplnou rovnici výše zkusíme přepsat do směrnicového tvaru, dostaneme:\n",
    "\n",
    "$$\n",
    "w_1x_1 = -w_0x_0-w_2 \\\\\n",
    "x_1 = -\\frac{w_0}{w_1}x_0-\\frac{w_2}{w_1}\n",
    "$$\n",
    "\n",
    "Co by se stalo, kdyby nám v této rovnici chyběl právě bias $\\theta (w_2)$? V tom případě by byl celý zlomek $\\frac{w_2}{x_1}$ nulový a v řeči směrnicového tvaru přímky bychom přišli o \"posunutí na ose y\". Občas by nám tento nedostatek nemusel vadit, ale většinou ano. Neuron by se mohl učit zbytečně dlouho nebo nedostatečně.\n",
    "\n",
    "V praxi často postupujeme tak, že pokud máme vstupní vektor o dimenzi 2, do neuronu však pošleme 3 hodnoty, kde třetí z nich \"napevno\" nastavíme na -1 a neuron tudíž jako takový udržuje vnitřně 3 váhy. K té třetí váze se pak chová naprosto shodně jako k těm prvním dvěma. Zobecnili jsme tím pádem práh do podoby další váhy. Za tohoto předpokladu se nám zobecní i vzorec pro aktivaci neuronu:\n",
    "\n",
    "$$\n",
    "y = sgn(\\sum_{i=0}^{I}x_iw_i) \\\\\n",
    "$$\n",
    "\n",
    "### Učení neuronu\n",
    "\n",
    "Jak neuron ví, že má na právě zadaný vstup vrátit 1 a na jiný 0? To se naučí v procesu učení. Jistě vás už napadlo, že jediná možnost, jak neuron něco naučit, je měnit mu váhy. Při tom, jak jsme si neuron definovali jsou váhy taky jediné proměnné, které můžeme měnit. Neuron se učí v iteracích. Při každé iteraci pustíme dopředný chod neuronu, a zjistíme, co nám vrátil - získáme hodnotu $y$. Tento výsledek pak porovnáme s žádanou hodnotou $z$ a podle pravidel pozměníme hodnoty vah.\n",
    "\n",
    "Mohou tudíž nastat 3 stavy:\n",
    "- $y = z$\n",
    "- $y = 1, z = 0$\n",
    "- $y = 0, z = 1$\n",
    "\n",
    "Váhu pak měníme podle vzorce:\n",
    "\n",
    "$$\n",
    "w_i(t+1) = w_i(t) + \\eta(z-y(t))x_i\n",
    "$$\n",
    "\n",
    "Koeficient učení $\\eta$ nám zjemňuje skoky při aktualizaci vah. Pokud koeficient nastavíme větší, neuron/síť se bude rychleji učit, ale je taky možné, že nám nebude správně konvergovat. Při nižším koeficientu zase musíme počítat s tím, že se neuron/síť bude určit trochu dýl."
   ]
  },
  {
   "cell_type": "code",
   "execution_count": 1,
   "metadata": {},
   "outputs": [
    {
     "data": {
      "application/vnd.jupyter.widget-view+json": {
       "model_id": "871c83f27ced421ea49eb02e32f1a321",
       "version_major": 2,
       "version_minor": 0
      },
      "text/plain": [
       "Button(description='Learn more', style=ButtonStyle())"
      ]
     },
     "metadata": {},
     "output_type": "display_data"
    }
   ],
   "source": [
    "from ipywidgets import widgets\n",
    "from IPython.display import clear_output\n",
    "import random\n",
    "\n",
    "def sgn(value):\n",
    "    return 1 if value > 0 else 0\n",
    "\n",
    "\n",
    "class Neuron:\n",
    "\n",
    "    def __init__(self):\n",
    "        self.w = [2*random.random()-1, 2*random.random()-1, 2*random.random()-1]\n",
    "        self.eta = 0.5\n",
    "\n",
    "\n",
    "    def activate(self, x):\n",
    "        suma = 0\n",
    "        for i, w in enumerate(self.w):\n",
    "            suma += self.w[i] * x[i]\n",
    "\n",
    "        return sgn(suma)\n",
    "\n",
    "\n",
    "    def train(self, x, z):\n",
    "        y = self.activate(x)\n",
    "        for i, w in enumerate(self.w):\n",
    "            self.w[i] = self.w[i] + self.eta * (z - y) * x[i]\n",
    "\n",
    "\n",
    "def learn_step(b):\n",
    "    print(\"sdf\")\n",
    "    clear_output()\n",
    "    display(button)\n",
    "\n",
    "    for sample in samples:\n",
    "        n.train(sample[0], sample[1])\n",
    "        plt.scatter(sample[0][0], sample[0][1], color='blue' if sample[1] == 0 else 'red')\n",
    "\n",
    "    x = np.linspace(0, 2)\n",
    "    plt.plot(x, -((n.w[0]*x)/n.w[1])-(n.w[2]/n.w[1]), linestyle='-', color='red')\n",
    "    plt.show()\n",
    "\n",
    "    \n",
    "n = Neuron()\n",
    "button = widgets.Button(description=\"Learn more\")\n",
    "button.on_click(learn_step)\n",
    "\n",
    "display(button)"
   ]
  },
  {
   "cell_type": "code",
   "execution_count": null,
   "metadata": {},
   "outputs": [],
   "source": []
  }
 ],
 "metadata": {
  "kernelspec": {
   "display_name": "Python 3 (ipykernel)",
   "language": "python",
   "name": "python3"
  },
  "language_info": {
   "codemirror_mode": {
    "name": "ipython",
    "version": 3
   },
   "file_extension": ".py",
   "mimetype": "text/x-python",
   "name": "python",
   "nbconvert_exporter": "python",
   "pygments_lexer": "ipython3",
   "version": "3.9.12"
  }
 },
 "nbformat": 4,
 "nbformat_minor": 4
}
