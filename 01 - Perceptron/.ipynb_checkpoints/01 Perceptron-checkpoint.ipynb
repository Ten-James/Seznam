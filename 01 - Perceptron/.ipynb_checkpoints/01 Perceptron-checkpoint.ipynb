{
 "cells": [
  {
   "cell_type": "markdown",
   "metadata": {},
   "source": [
    "# Neuronové sítě a perceptron\n",
    "\n",
    "## Co je to umělá inteligence?\n",
    "Když se řekne **umělá inteligence**, ne vždy se musí jednat o nějakou neuronovou síť. Z našeho pohledu je umělá inteligence chytrý algoritmus, který nám pomáhá řešit konkrétní úlohu bez toho, aniž bychom museli složitě nastavovat podmínky a tím říkat, jak se má tento algoritmus chovat.\n"
   ]
  },
  {
   "cell_type": "markdown",
   "metadata": {},
   "source": [
    "## Kde se s ní setkáme?\n",
    "- Počítačové hry\n",
    "- Autonomní vozidla\n",
    "- Lékařství, průmysl\n",
    "- Sociální sítě, vyhledávání na internetu\n",
    "- Spousta dalších míst...\n",
    "\n",
    "## K čemu neuronové sítě používáme?\n",
    "- Detektory\n",
    "  - Svým způsobem se jedná o klasifikátor, který úlohu dělí pouze do 2 tříd. Detektor nám pouze říká \"ano\" nebo \"ne\"\n",
    "- Klasifikátory\n",
    "  - Řešením úlohy je klasifikace problému do jedné z N tříd (\"pes\", \"kočka\", \"kráva\")?\n",
    "- Regrese\n",
    "  - Na základě známých veličin umíme odhadnout hodnotu nějaké neznámé veličiny"
   ]
  },
  {
   "cell_type": "markdown",
   "metadata": {},
   "source": [
    "# Přímky\n",
    "## Směrnicový tvar přímky\n",
    "```\n",
    "y = kx + q\n",
    "```\n",
    "- většinou známe směrnici `(k)` a posunutí na ose y `(q)`\n",
    "- typická úloha u přímky v tomto tvaru je zjistit, zda nějaký bod na této přímce leží, případně dopočítat za pomocí jedné souřadnice bodu druhou\n",
    "- pokud chceme přímku v tomto tvaru vykreslit, iterujeme hodnotu `x` (pomiňme nyní problémy s jemností vykreslení dopočítavané osy. Jenom si řekněme, že pro vykreslování přímky se lépe hodí parametrický tvar přímky)\n",
    "\n",
    "## Obecný tvar přímky\n",
    "```\n",
    "0 = ax + by + c\n",
    "```\n",
    "- typická úlohy u přímky v tomto tvaru jsou zjištění průsečíků či ověření, zda bod na přímce leží\n",
    "- můžeme využít nerovnosti a zjistit, na které polorovině se hledaný bod nachází"
   ]
  },
  {
   "cell_type": "code",
   "execution_count": 5,
   "metadata": {},
   "outputs": [
    {
     "data": {
      "text/plain": [
       "<matplotlib.collections.PathCollection at 0x7fb105ebf828>"
      ]
     },
     "execution_count": 5,
     "metadata": {},
     "output_type": "execute_result"
    },
    {
     "data": {
      "image/png": "[encoded data removed]",
      "text/plain": [
       "<Figure size 432x288 with 1 Axes>"
      ]
     },
     "metadata": {
      "needs_background": "light"
     },
     "output_type": "display_data"
    }
   ],
   "source": [
    "%matplotlib inline\n",
    "import matplotlib.pyplot as plt\n",
    "import numpy as np\n",
    "\n",
    "k = 1\n",
    "q = 0\n",
    "x = np.linspace(0, 2)\n",
    "plt.plot(x, k*x + q, linestyle='-', color='blue')\n",
    "\n",
    "k = 2\n",
    "q = 0\n",
    "x = np.linspace(0, 2)\n",
    "plt.plot(x, k*x + q, linestyle='-', color='red')\n",
    "\n",
    "plt.scatter(1, 3, color='green')\n",
    "plt.scatter(1.5, 1, color='green')"
   ]
  },
  {
   "cell_type": "code",
   "execution_count": 6,
   "metadata": {},
   "outputs": [
    {
     "data": {
      "image/png": "[encoded data removed]",
      "text/plain": [
       "<Figure size 432x288 with 1 Axes>"
      ]
     },
     "metadata": {
      "needs_background": "light"
     },
     "output_type": "display_data"
    }
   ],
   "source": [
    "import random\n",
    "\n",
    "dataset = \"drugs.csv\"\n",
    "#dataset = \"or.csv\"\n",
    "#dataset = \"and.csv\"\n",
    "\n",
    "samples = []\n",
    "with open(\"./01/datasets/{0}\".format(dataset), \"r\") as dataset_f:\n",
    "    content = dataset_f.read()\n",
    "    for row in content.split(\"\\n\"):\n",
    "        columns = list(map(float, row.split(\",\")))\n",
    "        samples.append((np.array(columns[:-1]), columns[-1]))\n",
    "\n",
    "for sample in samples:\n",
    "    plt.scatter(sample[0][0], sample[0][1], color='blue' if sample[1] == 0 else 'red')"
   ]
  },
  {
   "cell_type": "code",
   "execution_count": 8,
   "metadata": {},
   "outputs": [
    {
     "data": {
      "application/vnd.jupyter.widget-view+json": {
       "model_id": "c737fc611c054e65b58ae0ed0734bc41",
       "version_major": 2,
       "version_minor": 0
      },
      "text/plain": [
       "Button(description='Learn more', style=ButtonStyle())"
      ]
     },
     "metadata": {},
     "output_type": "display_data"
    },
    {
     "data": {
      "image/png": "[encoded data removed]",
      "text/plain": [
       "<Figure size 432x288 with 1 Axes>"
      ]
     },
     "metadata": {
      "needs_background": "light"
     },
     "output_type": "display_data"
    }
   ],
   "source": [
    "from ipywidgets import widgets\n",
    "from IPython.display import clear_output\n",
    "\n",
    "def sgn(value):\n",
    "    return 1 if value > 0 else 0\n",
    "\n",
    "\n",
    "class Neuron:\n",
    "\n",
    "    def __init__(self):\n",
    "        self.w = [2*random.random()-1, 2*random.random()-1, 2*random.random()-1]\n",
    "        self.eta = 0.5\n",
    "\n",
    "\n",
    "    def activate(self, x):\n",
    "        suma = 0\n",
    "        for i, w in enumerate(self.w):\n",
    "            suma += self.w[i] * x[i]\n",
    "\n",
    "        return sgn(suma)\n",
    "\n",
    "\n",
    "    def train(self, x, z):\n",
    "        y = self.activate(x)\n",
    "        for i, w in enumerate(self.w):\n",
    "            self.w[i] = self.w[i] + self.eta * (z - y) * x[i]\n",
    "\n",
    "\n",
    "def learn_step(b):\n",
    "    clear_output()\n",
    "    display(button)\n",
    "\n",
    "    for sample in samples:\n",
    "        n.train(sample[0], sample[1])\n",
    "        plt.scatter(sample[0][0], sample[0][1], color='blue' if sample[1] == 0 else 'red')\n",
    "\n",
    "    k = 1\n",
    "    q = 0\n",
    "    x = np.linspace(0, 2)\n",
    "    plt.plot(x, -((n.w[0]*x)/n.w[1])-(n.w[2]/n.w[1]), linestyle='-', color='red')\n",
    "    plt.show()\n",
    "\n",
    "    \n",
    "n = Neuron()\n",
    "button = widgets.Button(description=\"Learn more\")\n",
    "button.on_click(learn_step)\n",
    "\n",
    "display(button)"
   ]
  }
 ],
 "metadata": {
  "kernelspec": {
   "display_name": "Python 3",
   "language": "python",
   "name": "python3"
  },
  "language_info": {
   "codemirror_mode": {
    "name": "ipython",
    "version": 3
   },
   "file_extension": ".py",
   "mimetype": "text/x-python",
   "name": "python",
   "nbconvert_exporter": "python",
   "pygments_lexer": "ipython3",
   "version": "3.6.6"
  }
 },
 "nbformat": 4,
 "nbformat_minor": 2
}
