{
 "cells": [
  {
   "cell_type": "markdown",
   "id": "75444bce-6e43-41c9-b516-c4fa85670b5f",
   "metadata": {},
   "source": [
    "# Divná Iterace čísel"
   ]
  },
  {
   "cell_type": "code",
   "execution_count": null,
   "id": "6c24c514-dcd5-48b2-b545-c3c213a6b963",
   "metadata": {},
   "outputs": [],
   "source": [
    "i = int(input())"
   ]
  },
  {
   "cell_type": "code",
   "execution_count": 17,
   "id": "4a8d4e92-fa0f-4882-bda8-33c2918647ed",
   "metadata": {},
   "outputs": [
    {
     "name": "stdout",
     "output_type": "stream",
     "text": [
      "[1, 4, 9, 6, 5, 6, 9, 4, 1, 0, 1, 4, 9, 6, 5, 6, 9, 4, 1, 0, 1, 4, 9, 6, 5, 6, 9, 4, 1, 0, 1, 4, 9, 6, 5, 6, 9, 4, 1, 0, 1, 4, 9, 6, 5, 6, 9, 4, 1, 0, 1, 4, 9, 6, 5, 6, 9, 4, 1, 0, 1, 4, 9, 6, 5, 6, 9, 4, 1, 0, 1, 4, 9, 6, 5, 6, 9, 4, 1, 0, 1, 4, 9, 6, 5, 6, 9, 4, 1, 0, 1, 4, 9, 6, 5, 6, 9, 4, 1]\n"
     ]
    }
   ],
   "source": [
    "l = []\n",
    "for x in range (1, 100):\n",
    "    l.append(x ** i % i)\n",
    "print(l)"
   ]
  },
  {
   "cell_type": "code",
   "execution_count": null,
   "id": "f87952e5-94e0-4910-b684-cebdf06dc048",
   "metadata": {},
   "outputs": [],
   "source": []
  }
 ],
 "metadata": {
  "kernelspec": {
   "display_name": "Python 3 (ipykernel)",
   "language": "python",
   "name": "python3"
  },
  "language_info": {
   "codemirror_mode": {
    "name": "ipython",
    "version": 3
   },
   "file_extension": ".py",
   "mimetype": "text/x-python",
   "name": "python",
   "nbconvert_exporter": "python",
   "pygments_lexer": "ipython3",
   "version": "3.9.12"
  }
 },
 "nbformat": 4,
 "nbformat_minor": 5
}
